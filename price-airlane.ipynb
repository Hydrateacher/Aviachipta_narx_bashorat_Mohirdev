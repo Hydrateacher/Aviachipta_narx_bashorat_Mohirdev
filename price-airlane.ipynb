{
 "cells": [
  {
   "cell_type": "markdown",
   "id": "feb7176e",
   "metadata": {
    "papermill": {
     "duration": 0.010624,
     "end_time": "2023-08-02T11:57:40.388496",
     "exception": false,
     "start_time": "2023-08-02T11:57:40.377872",
     "status": "completed"
    },
    "tags": []
   },
   "source": [
    "**Price Airlane**\n",
    "\n",
    "\n",
    "\n",
    "![ticket](https://encrypted-tbn0.gstatic.com/images?q=tbn:ANd9GcRTDJoEdl8aXHC-doeNgPETFJvkiRWJJnyRvJXqt84MtqwhWDkxar2deTwNcB1ZbayxI8w&usqp=CAU)"
   ]
  },
  {
   "cell_type": "markdown",
   "id": "34cf8327",
   "metadata": {
    "papermill": {
     "duration": 0.009875,
     "end_time": "2023-08-02T11:57:40.408520",
     "exception": false,
     "start_time": "2023-08-02T11:57:40.398645",
     "status": "completed"
    },
    "tags": []
   },
   "source": [
    "    Estimating The price of flight tickets.  To you in the State of India\n",
    " flight information is provided.  Can you tell me the ticket prices using them?\n",
    "\n",
    " Dataset Description\n",
    " This data set includes:\n",
    "\n",
    " Content:\n",
    "\n",
    " ID: Sequence - the numbers set for the sequence.\n",
    "\n",
    " Airline: Name of the airline operated by.\n",
    "\n",
    " Flight: Flight ID number.\n",
    "\n",
    " Source_city: From which city the flight originates.\n",
    "\n",
    " Departure_time: Flight departure time.\n",
    "\n",
    " Stop: Number of stops during the flight.\n",
    "\n",
    " Arrival_time: Return time.\n",
    "\n",
    " Destination_city: The country to which the flight is departing.\n",
    "\n",
    " Class: Which class type of aircraft the user flew using.\n",
    "\n",
    " Duration: Flight duration.\n",
    "\n",
    " Days_left: How long after the return of the plane.\n",
    "\n",
    "Parvoz chiptalari narxini taxmin qilish. Sizlarga Hindiston Davlatidagi \n",
    "parvozlarning malumotlari taqdim etilgan. Siz ulardan foydalangan holda chipta narxlarini ayta olasizmi?\n",
    "\n",
    "**Dataset Description**\n",
    "Ushbu maʼlumotlar toʻplami quyidagilarni oz ichiga oladi:\n",
    "\n",
    "Tarkib:\n",
    "\n",
    "ID: Ketma - ketlik uchun qoyilgan sonlar.\n",
    "\n",
    "Airline: Parvoz qilingan aviakompaniya nomi.\n",
    "\n",
    "Flight: Parvoz qilingan ID raqami.\n",
    "\n",
    "Source_city: Parvoz qaysi shahardan boshlanishi.\n",
    "\n",
    "Departure_time: Samolyotning ketish vaqti.\n",
    "\n",
    "Stop: Parvoz davomida toxtashlar soni.\n",
    "\n",
    "Arrival_time: Qaytish vaqti.\n",
    "\n",
    "Destination_city: Qaysi davlatga parvoz qilinayotgani.\n",
    "\n",
    "Class: Foydalanuvchi samolyotning qaysi klass turidan foydalanib uchganligi.\n",
    "\n",
    "Duration: Parvoz davomiyligi.\n",
    "\n",
    "Days_left: Samolyotning qancha vaqtdan keyin qaytishi."
   ]
  },
  {
   "cell_type": "code",
   "execution_count": 1,
   "id": "b47fa3bf",
   "metadata": {
    "execution": {
     "iopub.execute_input": "2023-08-02T11:57:40.430517Z",
     "iopub.status.busy": "2023-08-02T11:57:40.429857Z",
     "iopub.status.idle": "2023-08-02T11:57:42.777448Z",
     "shell.execute_reply": "2023-08-02T11:57:42.776278Z"
    },
    "papermill": {
     "duration": 2.361667,
     "end_time": "2023-08-02T11:57:42.780109",
     "exception": false,
     "start_time": "2023-08-02T11:57:40.418442",
     "status": "completed"
    },
    "tags": []
   },
   "outputs": [
    {
     "name": "stderr",
     "output_type": "stream",
     "text": [
      "/opt/conda/lib/python3.10/site-packages/scipy/__init__.py:146: UserWarning: A NumPy version >=1.16.5 and <1.23.0 is required for this version of SciPy (detected version 1.23.5\n",
      "  warnings.warn(f\"A NumPy version >={np_minversion} and <{np_maxversion}\"\n"
     ]
    }
   ],
   "source": [
    "import numpy as np # linear algebra\n",
    "import pandas as pd # data processing, CSV file I/O (e.g. pd.read_csv)\n",
    "\n",
    "\n",
    "\n",
    "from sklearn.model_selection import train_test_split\n",
    "from sklearn.preprocessing import MinMaxScaler\n",
    "\n",
    "from sklearn.linear_model import LinearRegression\n",
    "from sklearn.tree import DecisionTreeRegressor\n",
    "from sklearn.model_selection import cross_val_predict, GridSearchCV\n",
    "from sklearn.ensemble import RandomForestRegressor\n",
    "from sklearn.svm import SVR\n",
    "from xgboost import XGBRegressor\n",
    "\n",
    "import matplotlib.pyplot as plt\n",
    "import seaborn as sns\n",
    "%matplotlib inline\n",
    "\n",
    "from sklearn.metrics import mean_absolute_error, mean_squared_error"
   ]
  },
  {
   "cell_type": "code",
   "execution_count": 2,
   "id": "be98898b",
   "metadata": {
    "execution": {
     "iopub.execute_input": "2023-08-02T11:57:42.802086Z",
     "iopub.status.busy": "2023-08-02T11:57:42.801797Z",
     "iopub.status.idle": "2023-08-02T11:57:42.909301Z",
     "shell.execute_reply": "2023-08-02T11:57:42.908338Z"
    },
    "papermill": {
     "duration": 0.120982,
     "end_time": "2023-08-02T11:57:42.911581",
     "exception": false,
     "start_time": "2023-08-02T11:57:42.790599",
     "status": "completed"
    },
    "tags": []
   },
   "outputs": [
    {
     "data": {
      "text/html": [
       "<div>\n",
       "<style scoped>\n",
       "    .dataframe tbody tr th:only-of-type {\n",
       "        vertical-align: middle;\n",
       "    }\n",
       "\n",
       "    .dataframe tbody tr th {\n",
       "        vertical-align: top;\n",
       "    }\n",
       "\n",
       "    .dataframe thead th {\n",
       "        text-align: right;\n",
       "    }\n",
       "</style>\n",
       "<table border=\"1\" class=\"dataframe\">\n",
       "  <thead>\n",
       "    <tr style=\"text-align: right;\">\n",
       "      <th></th>\n",
       "      <th>airline</th>\n",
       "      <th>flight</th>\n",
       "      <th>source_city</th>\n",
       "      <th>departure_time</th>\n",
       "      <th>stops</th>\n",
       "      <th>arrival_time</th>\n",
       "      <th>destination_city</th>\n",
       "      <th>class</th>\n",
       "      <th>duration</th>\n",
       "      <th>days_left</th>\n",
       "      <th>price</th>\n",
       "    </tr>\n",
       "    <tr>\n",
       "      <th>id</th>\n",
       "      <th></th>\n",
       "      <th></th>\n",
       "      <th></th>\n",
       "      <th></th>\n",
       "      <th></th>\n",
       "      <th></th>\n",
       "      <th></th>\n",
       "      <th></th>\n",
       "      <th></th>\n",
       "      <th></th>\n",
       "      <th></th>\n",
       "    </tr>\n",
       "  </thead>\n",
       "  <tbody>\n",
       "    <tr>\n",
       "      <th>1</th>\n",
       "      <td>Vistara</td>\n",
       "      <td>UK-810</td>\n",
       "      <td>Bangalore</td>\n",
       "      <td>Early_Morning</td>\n",
       "      <td>one</td>\n",
       "      <td>Night</td>\n",
       "      <td>Mumbai</td>\n",
       "      <td>Economy</td>\n",
       "      <td>14.25</td>\n",
       "      <td>21</td>\n",
       "      <td>7212</td>\n",
       "    </tr>\n",
       "    <tr>\n",
       "      <th>2</th>\n",
       "      <td>SpiceJet</td>\n",
       "      <td>SG-5094</td>\n",
       "      <td>Hyderabad</td>\n",
       "      <td>Evening</td>\n",
       "      <td>zero</td>\n",
       "      <td>Night</td>\n",
       "      <td>Kolkata</td>\n",
       "      <td>Economy</td>\n",
       "      <td>1.75</td>\n",
       "      <td>7</td>\n",
       "      <td>5292</td>\n",
       "    </tr>\n",
       "    <tr>\n",
       "      <th>3</th>\n",
       "      <td>Vistara</td>\n",
       "      <td>UK-846</td>\n",
       "      <td>Bangalore</td>\n",
       "      <td>Morning</td>\n",
       "      <td>one</td>\n",
       "      <td>Evening</td>\n",
       "      <td>Delhi</td>\n",
       "      <td>Business</td>\n",
       "      <td>9.58</td>\n",
       "      <td>5</td>\n",
       "      <td>60553</td>\n",
       "    </tr>\n",
       "    <tr>\n",
       "      <th>4</th>\n",
       "      <td>Vistara</td>\n",
       "      <td>UK-706</td>\n",
       "      <td>Kolkata</td>\n",
       "      <td>Morning</td>\n",
       "      <td>one</td>\n",
       "      <td>Evening</td>\n",
       "      <td>Hyderabad</td>\n",
       "      <td>Economy</td>\n",
       "      <td>6.75</td>\n",
       "      <td>28</td>\n",
       "      <td>5760</td>\n",
       "    </tr>\n",
       "    <tr>\n",
       "      <th>5</th>\n",
       "      <td>Indigo</td>\n",
       "      <td>6E-5394</td>\n",
       "      <td>Chennai</td>\n",
       "      <td>Early_Morning</td>\n",
       "      <td>zero</td>\n",
       "      <td>Morning</td>\n",
       "      <td>Mumbai</td>\n",
       "      <td>Economy</td>\n",
       "      <td>2.00</td>\n",
       "      <td>4</td>\n",
       "      <td>10712</td>\n",
       "    </tr>\n",
       "  </tbody>\n",
       "</table>\n",
       "</div>"
      ],
      "text/plain": [
       "     airline   flight source_city departure_time stops arrival_time  \\\n",
       "id                                                                    \n",
       "1    Vistara   UK-810   Bangalore  Early_Morning   one        Night   \n",
       "2   SpiceJet  SG-5094   Hyderabad        Evening  zero        Night   \n",
       "3    Vistara   UK-846   Bangalore        Morning   one      Evening   \n",
       "4    Vistara   UK-706     Kolkata        Morning   one      Evening   \n",
       "5     Indigo  6E-5394     Chennai  Early_Morning  zero      Morning   \n",
       "\n",
       "   destination_city     class  duration  days_left  price  \n",
       "id                                                         \n",
       "1            Mumbai   Economy     14.25         21   7212  \n",
       "2           Kolkata   Economy      1.75          7   5292  \n",
       "3             Delhi  Business      9.58          5  60553  \n",
       "4         Hyderabad   Economy      6.75         28   5760  \n",
       "5            Mumbai   Economy      2.00          4  10712  "
      ]
     },
     "execution_count": 2,
     "metadata": {},
     "output_type": "execute_result"
    }
   ],
   "source": [
    "df=pd.read_csv('/kaggle/input/aviachipta-narxini-bashorat-qilish/train_data.csv', index_col=0)\n",
    "df.head()"
   ]
  },
  {
   "cell_type": "code",
   "execution_count": 3,
   "id": "04913468",
   "metadata": {
    "execution": {
     "iopub.execute_input": "2023-08-02T11:57:42.934032Z",
     "iopub.status.busy": "2023-08-02T11:57:42.933373Z",
     "iopub.status.idle": "2023-08-02T11:57:42.987048Z",
     "shell.execute_reply": "2023-08-02T11:57:42.986194Z"
    },
    "papermill": {
     "duration": 0.066853,
     "end_time": "2023-08-02T11:57:42.989048",
     "exception": false,
     "start_time": "2023-08-02T11:57:42.922195",
     "status": "completed"
    },
    "tags": []
   },
   "outputs": [
    {
     "data": {
      "text/plain": [
       "airline             0\n",
       "flight              0\n",
       "source_city         0\n",
       "departure_time      0\n",
       "stops               0\n",
       "arrival_time        0\n",
       "destination_city    0\n",
       "class               0\n",
       "duration            0\n",
       "days_left           0\n",
       "price               0\n",
       "dtype: int64"
      ]
     },
     "execution_count": 3,
     "metadata": {},
     "output_type": "execute_result"
    }
   ],
   "source": [
    "df.isna().sum()"
   ]
  },
  {
   "cell_type": "code",
   "execution_count": 4,
   "id": "17a6fcbf",
   "metadata": {
    "execution": {
     "iopub.execute_input": "2023-08-02T11:57:43.013258Z",
     "iopub.status.busy": "2023-08-02T11:57:43.011683Z",
     "iopub.status.idle": "2023-08-02T11:57:43.034465Z",
     "shell.execute_reply": "2023-08-02T11:57:43.033482Z"
    },
    "papermill": {
     "duration": 0.036732,
     "end_time": "2023-08-02T11:57:43.036648",
     "exception": false,
     "start_time": "2023-08-02T11:57:42.999916",
     "status": "completed"
    },
    "tags": []
   },
   "outputs": [
    {
     "data": {
      "text/plain": [
       "airline                6\n",
       "flight              1310\n",
       "source_city            6\n",
       "departure_time         6\n",
       "stops                  3\n",
       "arrival_time           6\n",
       "destination_city       6\n",
       "class                  2\n",
       "duration             404\n",
       "days_left             49\n",
       "price               4420\n",
       "dtype: int64"
      ]
     },
     "execution_count": 4,
     "metadata": {},
     "output_type": "execute_result"
    }
   ],
   "source": [
    "df.nunique()"
   ]
  },
  {
   "cell_type": "code",
   "execution_count": 5,
   "id": "f3566597",
   "metadata": {
    "execution": {
     "iopub.execute_input": "2023-08-02T11:57:43.059225Z",
     "iopub.status.busy": "2023-08-02T11:57:43.058466Z",
     "iopub.status.idle": "2023-08-02T11:57:43.071143Z",
     "shell.execute_reply": "2023-08-02T11:57:43.070313Z"
    },
    "papermill": {
     "duration": 0.025967,
     "end_time": "2023-08-02T11:57:43.073157",
     "exception": false,
     "start_time": "2023-08-02T11:57:43.047190",
     "status": "completed"
    },
    "tags": []
   },
   "outputs": [],
   "source": [
    "df['stops'] = df['stops'].map({'zero' : 0, 'one' : 1, 'two_or_more' : 2})\n",
    "df['class'] = df['class'].map({'Economy' : 0, 'Business' : 1})\n"
   ]
  },
  {
   "cell_type": "code",
   "execution_count": 6,
   "id": "e89a33e3",
   "metadata": {
    "execution": {
     "iopub.execute_input": "2023-08-02T11:57:43.095657Z",
     "iopub.status.busy": "2023-08-02T11:57:43.094928Z",
     "iopub.status.idle": "2023-08-02T11:57:43.101175Z",
     "shell.execute_reply": "2023-08-02T11:57:43.100347Z"
    },
    "papermill": {
     "duration": 0.019556,
     "end_time": "2023-08-02T11:57:43.103259",
     "exception": false,
     "start_time": "2023-08-02T11:57:43.083703",
     "status": "completed"
    },
    "tags": []
   },
   "outputs": [],
   "source": [
    "X = df.drop('price', axis = 1)\n",
    "y = df.price"
   ]
  },
  {
   "cell_type": "code",
   "execution_count": 7,
   "id": "12d79e0b",
   "metadata": {
    "execution": {
     "iopub.execute_input": "2023-08-02T11:57:43.126258Z",
     "iopub.status.busy": "2023-08-02T11:57:43.125447Z",
     "iopub.status.idle": "2023-08-02T11:57:43.280112Z",
     "shell.execute_reply": "2023-08-02T11:57:43.279174Z"
    },
    "papermill": {
     "duration": 0.16848,
     "end_time": "2023-08-02T11:57:43.282391",
     "exception": false,
     "start_time": "2023-08-02T11:57:43.113911",
     "status": "completed"
    },
    "tags": []
   },
   "outputs": [],
   "source": [
    "X_dummy = pd.get_dummies(X)"
   ]
  },
  {
   "cell_type": "code",
   "execution_count": 8,
   "id": "a7b2e2c5",
   "metadata": {
    "execution": {
     "iopub.execute_input": "2023-08-02T11:57:43.305451Z",
     "iopub.status.busy": "2023-08-02T11:57:43.305147Z",
     "iopub.status.idle": "2023-08-02T11:57:43.559552Z",
     "shell.execute_reply": "2023-08-02T11:57:43.558499Z"
    },
    "papermill": {
     "duration": 0.26903,
     "end_time": "2023-08-02T11:57:43.562607",
     "exception": false,
     "start_time": "2023-08-02T11:57:43.293577",
     "status": "completed"
    },
    "tags": []
   },
   "outputs": [],
   "source": [
    "X_train, X_test, y_train, y_test = train_test_split(X_dummy, y, test_size=0.2, random_state=42)"
   ]
  },
  {
   "cell_type": "code",
   "execution_count": 9,
   "id": "8b3c6b5c",
   "metadata": {
    "execution": {
     "iopub.execute_input": "2023-08-02T11:57:43.602847Z",
     "iopub.status.busy": "2023-08-02T11:57:43.602467Z",
     "iopub.status.idle": "2023-08-02T11:57:44.020482Z",
     "shell.execute_reply": "2023-08-02T11:57:44.017678Z"
    },
    "papermill": {
     "duration": 0.436687,
     "end_time": "2023-08-02T11:57:44.023328",
     "exception": false,
     "start_time": "2023-08-02T11:57:43.586641",
     "status": "completed"
    },
    "tags": []
   },
   "outputs": [
    {
     "data": {
      "text/plain": [
       "stops                           3\n",
       "class                           2\n",
       "duration                      394\n",
       "days_left                      49\n",
       "airline_AirAsia                 2\n",
       "                             ... \n",
       "destination_city_Chennai        2\n",
       "destination_city_Delhi          2\n",
       "destination_city_Hyderabad      2\n",
       "destination_city_Kolkata        2\n",
       "destination_city_Mumbai         2\n",
       "Length: 1344, dtype: int64"
      ]
     },
     "execution_count": 9,
     "metadata": {},
     "output_type": "execute_result"
    }
   ],
   "source": [
    "X_train.nunique()"
   ]
  },
  {
   "cell_type": "code",
   "execution_count": 10,
   "id": "06d0b1ea",
   "metadata": {
    "execution": {
     "iopub.execute_input": "2023-08-02T11:57:44.053235Z",
     "iopub.status.busy": "2023-08-02T11:57:44.052872Z",
     "iopub.status.idle": "2023-08-02T11:57:44.058729Z",
     "shell.execute_reply": "2023-08-02T11:57:44.056965Z"
    },
    "papermill": {
     "duration": 0.024977,
     "end_time": "2023-08-02T11:57:44.063847",
     "exception": false,
     "start_time": "2023-08-02T11:57:44.038870",
     "status": "completed"
    },
    "tags": []
   },
   "outputs": [],
   "source": [
    "scaler = MinMaxScaler()"
   ]
  },
  {
   "cell_type": "code",
   "execution_count": 11,
   "id": "b0efb265",
   "metadata": {
    "execution": {
     "iopub.execute_input": "2023-08-02T11:57:44.098021Z",
     "iopub.status.busy": "2023-08-02T11:57:44.097107Z",
     "iopub.status.idle": "2023-08-02T11:57:44.434721Z",
     "shell.execute_reply": "2023-08-02T11:57:44.433743Z"
    },
    "papermill": {
     "duration": 0.357115,
     "end_time": "2023-08-02T11:57:44.437742",
     "exception": false,
     "start_time": "2023-08-02T11:57:44.080627",
     "status": "completed"
    },
    "tags": []
   },
   "outputs": [],
   "source": [
    "X_train_prepared = scaler.fit_transform(X_train)\n",
    "X_test_prepared = scaler.transform(X_test)"
   ]
  },
  {
   "cell_type": "markdown",
   "id": "bf8dd8d3",
   "metadata": {
    "papermill": {
     "duration": 0.01495,
     "end_time": "2023-08-02T11:57:44.472608",
     "exception": false,
     "start_time": "2023-08-02T11:57:44.457658",
     "status": "completed"
    },
    "tags": []
   },
   "source": [
    "**Decision Tree**"
   ]
  },
  {
   "cell_type": "code",
   "execution_count": 12,
   "id": "fa4abfa7",
   "metadata": {
    "execution": {
     "iopub.execute_input": "2023-08-02T11:57:44.504468Z",
     "iopub.status.busy": "2023-08-02T11:57:44.504100Z",
     "iopub.status.idle": "2023-08-02T11:57:45.507394Z",
     "shell.execute_reply": "2023-08-02T11:57:45.506392Z"
    },
    "papermill": {
     "duration": 1.021574,
     "end_time": "2023-08-02T11:57:45.509621",
     "exception": false,
     "start_time": "2023-08-02T11:57:44.488047",
     "status": "completed"
    },
    "tags": []
   },
   "outputs": [
    {
     "data": {
      "text/html": [
       "<style>#sk-container-id-1 {color: black;background-color: white;}#sk-container-id-1 pre{padding: 0;}#sk-container-id-1 div.sk-toggleable {background-color: white;}#sk-container-id-1 label.sk-toggleable__label {cursor: pointer;display: block;width: 100%;margin-bottom: 0;padding: 0.3em;box-sizing: border-box;text-align: center;}#sk-container-id-1 label.sk-toggleable__label-arrow:before {content: \"▸\";float: left;margin-right: 0.25em;color: #696969;}#sk-container-id-1 label.sk-toggleable__label-arrow:hover:before {color: black;}#sk-container-id-1 div.sk-estimator:hover label.sk-toggleable__label-arrow:before {color: black;}#sk-container-id-1 div.sk-toggleable__content {max-height: 0;max-width: 0;overflow: hidden;text-align: left;background-color: #f0f8ff;}#sk-container-id-1 div.sk-toggleable__content pre {margin: 0.2em;color: black;border-radius: 0.25em;background-color: #f0f8ff;}#sk-container-id-1 input.sk-toggleable__control:checked~div.sk-toggleable__content {max-height: 200px;max-width: 100%;overflow: auto;}#sk-container-id-1 input.sk-toggleable__control:checked~label.sk-toggleable__label-arrow:before {content: \"▾\";}#sk-container-id-1 div.sk-estimator input.sk-toggleable__control:checked~label.sk-toggleable__label {background-color: #d4ebff;}#sk-container-id-1 div.sk-label input.sk-toggleable__control:checked~label.sk-toggleable__label {background-color: #d4ebff;}#sk-container-id-1 input.sk-hidden--visually {border: 0;clip: rect(1px 1px 1px 1px);clip: rect(1px, 1px, 1px, 1px);height: 1px;margin: -1px;overflow: hidden;padding: 0;position: absolute;width: 1px;}#sk-container-id-1 div.sk-estimator {font-family: monospace;background-color: #f0f8ff;border: 1px dotted black;border-radius: 0.25em;box-sizing: border-box;margin-bottom: 0.5em;}#sk-container-id-1 div.sk-estimator:hover {background-color: #d4ebff;}#sk-container-id-1 div.sk-parallel-item::after {content: \"\";width: 100%;border-bottom: 1px solid gray;flex-grow: 1;}#sk-container-id-1 div.sk-label:hover label.sk-toggleable__label {background-color: #d4ebff;}#sk-container-id-1 div.sk-serial::before {content: \"\";position: absolute;border-left: 1px solid gray;box-sizing: border-box;top: 0;bottom: 0;left: 50%;z-index: 0;}#sk-container-id-1 div.sk-serial {display: flex;flex-direction: column;align-items: center;background-color: white;padding-right: 0.2em;padding-left: 0.2em;position: relative;}#sk-container-id-1 div.sk-item {position: relative;z-index: 1;}#sk-container-id-1 div.sk-parallel {display: flex;align-items: stretch;justify-content: center;background-color: white;position: relative;}#sk-container-id-1 div.sk-item::before, #sk-container-id-1 div.sk-parallel-item::before {content: \"\";position: absolute;border-left: 1px solid gray;box-sizing: border-box;top: 0;bottom: 0;left: 50%;z-index: -1;}#sk-container-id-1 div.sk-parallel-item {display: flex;flex-direction: column;z-index: 1;position: relative;background-color: white;}#sk-container-id-1 div.sk-parallel-item:first-child::after {align-self: flex-end;width: 50%;}#sk-container-id-1 div.sk-parallel-item:last-child::after {align-self: flex-start;width: 50%;}#sk-container-id-1 div.sk-parallel-item:only-child::after {width: 0;}#sk-container-id-1 div.sk-dashed-wrapped {border: 1px dashed gray;margin: 0 0.4em 0.5em 0.4em;box-sizing: border-box;padding-bottom: 0.4em;background-color: white;}#sk-container-id-1 div.sk-label label {font-family: monospace;font-weight: bold;display: inline-block;line-height: 1.2em;}#sk-container-id-1 div.sk-label-container {text-align: center;}#sk-container-id-1 div.sk-container {/* jupyter's `normalize.less` sets `[hidden] { display: none; }` but bootstrap.min.css set `[hidden] { display: none !important; }` so we also need the `!important` here to be able to override the default hidden behavior on the sphinx rendered scikit-learn.org. See: https://github.com/scikit-learn/scikit-learn/issues/21755 */display: inline-block !important;position: relative;}#sk-container-id-1 div.sk-text-repr-fallback {display: none;}</style><div id=\"sk-container-id-1\" class=\"sk-top-container\"><div class=\"sk-text-repr-fallback\"><pre>DecisionTreeRegressor()</pre><b>In a Jupyter environment, please rerun this cell to show the HTML representation or trust the notebook. <br />On GitHub, the HTML representation is unable to render, please try loading this page with nbviewer.org.</b></div><div class=\"sk-container\" hidden><div class=\"sk-item\"><div class=\"sk-estimator sk-toggleable\"><input class=\"sk-toggleable__control sk-hidden--visually\" id=\"sk-estimator-id-1\" type=\"checkbox\" checked><label for=\"sk-estimator-id-1\" class=\"sk-toggleable__label sk-toggleable__label-arrow\">DecisionTreeRegressor</label><div class=\"sk-toggleable__content\"><pre>DecisionTreeRegressor()</pre></div></div></div></div></div>"
      ],
      "text/plain": [
       "DecisionTreeRegressor()"
      ]
     },
     "execution_count": 12,
     "metadata": {},
     "output_type": "execute_result"
    }
   ],
   "source": [
    "model_tree = DecisionTreeRegressor()\n",
    "model_tree.fit(X = X_train_prepared, y=y_train)"
   ]
  },
  {
   "cell_type": "code",
   "execution_count": 13,
   "id": "02aacf66",
   "metadata": {
    "execution": {
     "iopub.execute_input": "2023-08-02T11:57:45.533708Z",
     "iopub.status.busy": "2023-08-02T11:57:45.533379Z",
     "iopub.status.idle": "2023-08-02T11:57:45.550887Z",
     "shell.execute_reply": "2023-08-02T11:57:45.549676Z"
    },
    "papermill": {
     "duration": 0.031925,
     "end_time": "2023-08-02T11:57:45.552875",
     "exception": false,
     "start_time": "2023-08-02T11:57:45.520950",
     "status": "completed"
    },
    "tags": []
   },
   "outputs": [
    {
     "name": "stdout",
     "output_type": "stream",
     "text": [
      "MAE= 1788.005125\n",
      "RMSE= 4453.076498002532\n"
     ]
    }
   ],
   "source": [
    "pred_rf = model_tree.predict(X_test_prepared)\n",
    "mae = mean_absolute_error(y_test, pred_rf)\n",
    "mse = mean_squared_error(y_test, pred_rf)\n",
    "print(\"MAE=\", mae)\n",
    "print(\"RMSE=\", np.sqrt(mse))"
   ]
  },
  {
   "cell_type": "markdown",
   "id": "c627b6e4",
   "metadata": {
    "papermill": {
     "duration": 0.013214,
     "end_time": "2023-08-02T11:57:45.577337",
     "exception": false,
     "start_time": "2023-08-02T11:57:45.564123",
     "status": "completed"
    },
    "tags": []
   },
   "source": [
    "**RandomForestRegressor**"
   ]
  },
  {
   "cell_type": "code",
   "execution_count": 14,
   "id": "ea8875c3",
   "metadata": {
    "execution": {
     "iopub.execute_input": "2023-08-02T11:57:45.615740Z",
     "iopub.status.busy": "2023-08-02T11:57:45.615247Z",
     "iopub.status.idle": "2023-08-02T11:58:39.641301Z",
     "shell.execute_reply": "2023-08-02T11:58:39.640374Z"
    },
    "papermill": {
     "duration": 54.058717,
     "end_time": "2023-08-02T11:58:39.654533",
     "exception": false,
     "start_time": "2023-08-02T11:57:45.595816",
     "status": "completed"
    },
    "tags": []
   },
   "outputs": [
    {
     "data": {
      "text/html": [
       "<style>#sk-container-id-2 {color: black;background-color: white;}#sk-container-id-2 pre{padding: 0;}#sk-container-id-2 div.sk-toggleable {background-color: white;}#sk-container-id-2 label.sk-toggleable__label {cursor: pointer;display: block;width: 100%;margin-bottom: 0;padding: 0.3em;box-sizing: border-box;text-align: center;}#sk-container-id-2 label.sk-toggleable__label-arrow:before {content: \"▸\";float: left;margin-right: 0.25em;color: #696969;}#sk-container-id-2 label.sk-toggleable__label-arrow:hover:before {color: black;}#sk-container-id-2 div.sk-estimator:hover label.sk-toggleable__label-arrow:before {color: black;}#sk-container-id-2 div.sk-toggleable__content {max-height: 0;max-width: 0;overflow: hidden;text-align: left;background-color: #f0f8ff;}#sk-container-id-2 div.sk-toggleable__content pre {margin: 0.2em;color: black;border-radius: 0.25em;background-color: #f0f8ff;}#sk-container-id-2 input.sk-toggleable__control:checked~div.sk-toggleable__content {max-height: 200px;max-width: 100%;overflow: auto;}#sk-container-id-2 input.sk-toggleable__control:checked~label.sk-toggleable__label-arrow:before {content: \"▾\";}#sk-container-id-2 div.sk-estimator input.sk-toggleable__control:checked~label.sk-toggleable__label {background-color: #d4ebff;}#sk-container-id-2 div.sk-label input.sk-toggleable__control:checked~label.sk-toggleable__label {background-color: #d4ebff;}#sk-container-id-2 input.sk-hidden--visually {border: 0;clip: rect(1px 1px 1px 1px);clip: rect(1px, 1px, 1px, 1px);height: 1px;margin: -1px;overflow: hidden;padding: 0;position: absolute;width: 1px;}#sk-container-id-2 div.sk-estimator {font-family: monospace;background-color: #f0f8ff;border: 1px dotted black;border-radius: 0.25em;box-sizing: border-box;margin-bottom: 0.5em;}#sk-container-id-2 div.sk-estimator:hover {background-color: #d4ebff;}#sk-container-id-2 div.sk-parallel-item::after {content: \"\";width: 100%;border-bottom: 1px solid gray;flex-grow: 1;}#sk-container-id-2 div.sk-label:hover label.sk-toggleable__label {background-color: #d4ebff;}#sk-container-id-2 div.sk-serial::before {content: \"\";position: absolute;border-left: 1px solid gray;box-sizing: border-box;top: 0;bottom: 0;left: 50%;z-index: 0;}#sk-container-id-2 div.sk-serial {display: flex;flex-direction: column;align-items: center;background-color: white;padding-right: 0.2em;padding-left: 0.2em;position: relative;}#sk-container-id-2 div.sk-item {position: relative;z-index: 1;}#sk-container-id-2 div.sk-parallel {display: flex;align-items: stretch;justify-content: center;background-color: white;position: relative;}#sk-container-id-2 div.sk-item::before, #sk-container-id-2 div.sk-parallel-item::before {content: \"\";position: absolute;border-left: 1px solid gray;box-sizing: border-box;top: 0;bottom: 0;left: 50%;z-index: -1;}#sk-container-id-2 div.sk-parallel-item {display: flex;flex-direction: column;z-index: 1;position: relative;background-color: white;}#sk-container-id-2 div.sk-parallel-item:first-child::after {align-self: flex-end;width: 50%;}#sk-container-id-2 div.sk-parallel-item:last-child::after {align-self: flex-start;width: 50%;}#sk-container-id-2 div.sk-parallel-item:only-child::after {width: 0;}#sk-container-id-2 div.sk-dashed-wrapped {border: 1px dashed gray;margin: 0 0.4em 0.5em 0.4em;box-sizing: border-box;padding-bottom: 0.4em;background-color: white;}#sk-container-id-2 div.sk-label label {font-family: monospace;font-weight: bold;display: inline-block;line-height: 1.2em;}#sk-container-id-2 div.sk-label-container {text-align: center;}#sk-container-id-2 div.sk-container {/* jupyter's `normalize.less` sets `[hidden] { display: none; }` but bootstrap.min.css set `[hidden] { display: none !important; }` so we also need the `!important` here to be able to override the default hidden behavior on the sphinx rendered scikit-learn.org. See: https://github.com/scikit-learn/scikit-learn/issues/21755 */display: inline-block !important;position: relative;}#sk-container-id-2 div.sk-text-repr-fallback {display: none;}</style><div id=\"sk-container-id-2\" class=\"sk-top-container\"><div class=\"sk-text-repr-fallback\"><pre>RandomForestRegressor()</pre><b>In a Jupyter environment, please rerun this cell to show the HTML representation or trust the notebook. <br />On GitHub, the HTML representation is unable to render, please try loading this page with nbviewer.org.</b></div><div class=\"sk-container\" hidden><div class=\"sk-item\"><div class=\"sk-estimator sk-toggleable\"><input class=\"sk-toggleable__control sk-hidden--visually\" id=\"sk-estimator-id-2\" type=\"checkbox\" checked><label for=\"sk-estimator-id-2\" class=\"sk-toggleable__label sk-toggleable__label-arrow\">RandomForestRegressor</label><div class=\"sk-toggleable__content\"><pre>RandomForestRegressor()</pre></div></div></div></div></div>"
      ],
      "text/plain": [
       "RandomForestRegressor()"
      ]
     },
     "execution_count": 14,
     "metadata": {},
     "output_type": "execute_result"
    }
   ],
   "source": [
    "FR_model = RandomForestRegressor()\n",
    "FR_model.fit(X_train_prepared, y_train)"
   ]
  },
  {
   "cell_type": "code",
   "execution_count": 15,
   "id": "0b4b060c",
   "metadata": {
    "execution": {
     "iopub.execute_input": "2023-08-02T11:58:39.679792Z",
     "iopub.status.busy": "2023-08-02T11:58:39.678110Z",
     "iopub.status.idle": "2023-08-02T11:58:39.813268Z",
     "shell.execute_reply": "2023-08-02T11:58:39.812219Z"
    },
    "papermill": {
     "duration": 0.149609,
     "end_time": "2023-08-02T11:58:39.815341",
     "exception": false,
     "start_time": "2023-08-02T11:58:39.665732",
     "status": "completed"
    },
    "tags": []
   },
   "outputs": [
    {
     "name": "stdout",
     "output_type": "stream",
     "text": [
      "MAE= 1595.9660317083335\n",
      "RMSE= 3400.9473515525438\n"
     ]
    }
   ],
   "source": [
    "pred_rf = FR_model.predict(X_test_prepared)\n",
    "mae = mean_absolute_error(y_test, pred_rf)\n",
    "mse = mean_squared_error(y_test, pred_rf)\n",
    "print(\"MAE=\", mae)\n",
    "print(\"RMSE=\", np.sqrt(mse))"
   ]
  },
  {
   "cell_type": "markdown",
   "id": "40cb164e",
   "metadata": {
    "papermill": {
     "duration": 0.011313,
     "end_time": "2023-08-02T11:58:39.838072",
     "exception": false,
     "start_time": "2023-08-02T11:58:39.826759",
     "status": "completed"
    },
    "tags": []
   },
   "source": [
    "**# SVM\n",
    "#** "
   ]
  },
  {
   "cell_type": "code",
   "execution_count": 16,
   "id": "917e9c86",
   "metadata": {
    "execution": {
     "iopub.execute_input": "2023-08-02T11:58:39.862097Z",
     "iopub.status.busy": "2023-08-02T11:58:39.861288Z",
     "iopub.status.idle": "2023-08-02T12:02:50.375271Z",
     "shell.execute_reply": "2023-08-02T12:02:50.374360Z"
    },
    "papermill": {
     "duration": 250.539675,
     "end_time": "2023-08-02T12:02:50.388860",
     "exception": false,
     "start_time": "2023-08-02T11:58:39.849185",
     "status": "completed"
    },
    "tags": []
   },
   "outputs": [
    {
     "data": {
      "text/html": [
       "<style>#sk-container-id-3 {color: black;background-color: white;}#sk-container-id-3 pre{padding: 0;}#sk-container-id-3 div.sk-toggleable {background-color: white;}#sk-container-id-3 label.sk-toggleable__label {cursor: pointer;display: block;width: 100%;margin-bottom: 0;padding: 0.3em;box-sizing: border-box;text-align: center;}#sk-container-id-3 label.sk-toggleable__label-arrow:before {content: \"▸\";float: left;margin-right: 0.25em;color: #696969;}#sk-container-id-3 label.sk-toggleable__label-arrow:hover:before {color: black;}#sk-container-id-3 div.sk-estimator:hover label.sk-toggleable__label-arrow:before {color: black;}#sk-container-id-3 div.sk-toggleable__content {max-height: 0;max-width: 0;overflow: hidden;text-align: left;background-color: #f0f8ff;}#sk-container-id-3 div.sk-toggleable__content pre {margin: 0.2em;color: black;border-radius: 0.25em;background-color: #f0f8ff;}#sk-container-id-3 input.sk-toggleable__control:checked~div.sk-toggleable__content {max-height: 200px;max-width: 100%;overflow: auto;}#sk-container-id-3 input.sk-toggleable__control:checked~label.sk-toggleable__label-arrow:before {content: \"▾\";}#sk-container-id-3 div.sk-estimator input.sk-toggleable__control:checked~label.sk-toggleable__label {background-color: #d4ebff;}#sk-container-id-3 div.sk-label input.sk-toggleable__control:checked~label.sk-toggleable__label {background-color: #d4ebff;}#sk-container-id-3 input.sk-hidden--visually {border: 0;clip: rect(1px 1px 1px 1px);clip: rect(1px, 1px, 1px, 1px);height: 1px;margin: -1px;overflow: hidden;padding: 0;position: absolute;width: 1px;}#sk-container-id-3 div.sk-estimator {font-family: monospace;background-color: #f0f8ff;border: 1px dotted black;border-radius: 0.25em;box-sizing: border-box;margin-bottom: 0.5em;}#sk-container-id-3 div.sk-estimator:hover {background-color: #d4ebff;}#sk-container-id-3 div.sk-parallel-item::after {content: \"\";width: 100%;border-bottom: 1px solid gray;flex-grow: 1;}#sk-container-id-3 div.sk-label:hover label.sk-toggleable__label {background-color: #d4ebff;}#sk-container-id-3 div.sk-serial::before {content: \"\";position: absolute;border-left: 1px solid gray;box-sizing: border-box;top: 0;bottom: 0;left: 50%;z-index: 0;}#sk-container-id-3 div.sk-serial {display: flex;flex-direction: column;align-items: center;background-color: white;padding-right: 0.2em;padding-left: 0.2em;position: relative;}#sk-container-id-3 div.sk-item {position: relative;z-index: 1;}#sk-container-id-3 div.sk-parallel {display: flex;align-items: stretch;justify-content: center;background-color: white;position: relative;}#sk-container-id-3 div.sk-item::before, #sk-container-id-3 div.sk-parallel-item::before {content: \"\";position: absolute;border-left: 1px solid gray;box-sizing: border-box;top: 0;bottom: 0;left: 50%;z-index: -1;}#sk-container-id-3 div.sk-parallel-item {display: flex;flex-direction: column;z-index: 1;position: relative;background-color: white;}#sk-container-id-3 div.sk-parallel-item:first-child::after {align-self: flex-end;width: 50%;}#sk-container-id-3 div.sk-parallel-item:last-child::after {align-self: flex-start;width: 50%;}#sk-container-id-3 div.sk-parallel-item:only-child::after {width: 0;}#sk-container-id-3 div.sk-dashed-wrapped {border: 1px dashed gray;margin: 0 0.4em 0.5em 0.4em;box-sizing: border-box;padding-bottom: 0.4em;background-color: white;}#sk-container-id-3 div.sk-label label {font-family: monospace;font-weight: bold;display: inline-block;line-height: 1.2em;}#sk-container-id-3 div.sk-label-container {text-align: center;}#sk-container-id-3 div.sk-container {/* jupyter's `normalize.less` sets `[hidden] { display: none; }` but bootstrap.min.css set `[hidden] { display: none !important; }` so we also need the `!important` here to be able to override the default hidden behavior on the sphinx rendered scikit-learn.org. See: https://github.com/scikit-learn/scikit-learn/issues/21755 */display: inline-block !important;position: relative;}#sk-container-id-3 div.sk-text-repr-fallback {display: none;}</style><div id=\"sk-container-id-3\" class=\"sk-top-container\"><div class=\"sk-text-repr-fallback\"><pre>SVR()</pre><b>In a Jupyter environment, please rerun this cell to show the HTML representation or trust the notebook. <br />On GitHub, the HTML representation is unable to render, please try loading this page with nbviewer.org.</b></div><div class=\"sk-container\" hidden><div class=\"sk-item\"><div class=\"sk-estimator sk-toggleable\"><input class=\"sk-toggleable__control sk-hidden--visually\" id=\"sk-estimator-id-3\" type=\"checkbox\" checked><label for=\"sk-estimator-id-3\" class=\"sk-toggleable__label sk-toggleable__label-arrow\">SVR</label><div class=\"sk-toggleable__content\"><pre>SVR()</pre></div></div></div></div></div>"
      ],
      "text/plain": [
       "SVR()"
      ]
     },
     "execution_count": 16,
     "metadata": {},
     "output_type": "execute_result"
    }
   ],
   "source": [
    "\n",
    "model_svm = SVR()\n",
    "model_svm.fit(X= X_train_prepared, y=y_train)\n"
   ]
  },
  {
   "cell_type": "code",
   "execution_count": 17,
   "id": "ac9e7cc6",
   "metadata": {
    "execution": {
     "iopub.execute_input": "2023-08-02T12:02:50.414490Z",
     "iopub.status.busy": "2023-08-02T12:02:50.412876Z",
     "iopub.status.idle": "2023-08-02T12:04:15.419120Z",
     "shell.execute_reply": "2023-08-02T12:04:15.418127Z"
    },
    "papermill": {
     "duration": 85.03146,
     "end_time": "2023-08-02T12:04:15.431975",
     "exception": false,
     "start_time": "2023-08-02T12:02:50.400515",
     "status": "completed"
    },
    "tags": []
   },
   "outputs": [
    {
     "name": "stdout",
     "output_type": "stream",
     "text": [
      "MAE= 16196.70185277067\n",
      "RMSE= 26412.799071434536\n"
     ]
    }
   ],
   "source": [
    "pred_rf = model_svm.predict(X_test_prepared)\n",
    "mae = mean_absolute_error(y_test, pred_rf)\n",
    "mse = mean_squared_error(y_test, pred_rf)\n",
    "print(\"MAE=\", mae)\n",
    "print(\"RMSE=\", np.sqrt(mse))"
   ]
  },
  {
   "cell_type": "markdown",
   "id": "c563b429",
   "metadata": {
    "papermill": {
     "duration": 0.011784,
     "end_time": "2023-08-02T12:04:15.455610",
     "exception": false,
     "start_time": "2023-08-02T12:04:15.443826",
     "status": "completed"
    },
    "tags": []
   },
   "source": [
    "**xgboost**"
   ]
  },
  {
   "cell_type": "code",
   "execution_count": 18,
   "id": "ea51026c",
   "metadata": {
    "execution": {
     "iopub.execute_input": "2023-08-02T12:04:15.480867Z",
     "iopub.status.busy": "2023-08-02T12:04:15.479881Z",
     "iopub.status.idle": "2023-08-02T12:05:20.975183Z",
     "shell.execute_reply": "2023-08-02T12:05:20.974240Z"
    },
    "papermill": {
     "duration": 65.521792,
     "end_time": "2023-08-02T12:05:20.988935",
     "exception": false,
     "start_time": "2023-08-02T12:04:15.467143",
     "status": "completed"
    },
    "tags": []
   },
   "outputs": [
    {
     "data": {
      "text/html": [
       "<style>#sk-container-id-4 {color: black;background-color: white;}#sk-container-id-4 pre{padding: 0;}#sk-container-id-4 div.sk-toggleable {background-color: white;}#sk-container-id-4 label.sk-toggleable__label {cursor: pointer;display: block;width: 100%;margin-bottom: 0;padding: 0.3em;box-sizing: border-box;text-align: center;}#sk-container-id-4 label.sk-toggleable__label-arrow:before {content: \"▸\";float: left;margin-right: 0.25em;color: #696969;}#sk-container-id-4 label.sk-toggleable__label-arrow:hover:before {color: black;}#sk-container-id-4 div.sk-estimator:hover label.sk-toggleable__label-arrow:before {color: black;}#sk-container-id-4 div.sk-toggleable__content {max-height: 0;max-width: 0;overflow: hidden;text-align: left;background-color: #f0f8ff;}#sk-container-id-4 div.sk-toggleable__content pre {margin: 0.2em;color: black;border-radius: 0.25em;background-color: #f0f8ff;}#sk-container-id-4 input.sk-toggleable__control:checked~div.sk-toggleable__content {max-height: 200px;max-width: 100%;overflow: auto;}#sk-container-id-4 input.sk-toggleable__control:checked~label.sk-toggleable__label-arrow:before {content: \"▾\";}#sk-container-id-4 div.sk-estimator input.sk-toggleable__control:checked~label.sk-toggleable__label {background-color: #d4ebff;}#sk-container-id-4 div.sk-label input.sk-toggleable__control:checked~label.sk-toggleable__label {background-color: #d4ebff;}#sk-container-id-4 input.sk-hidden--visually {border: 0;clip: rect(1px 1px 1px 1px);clip: rect(1px, 1px, 1px, 1px);height: 1px;margin: -1px;overflow: hidden;padding: 0;position: absolute;width: 1px;}#sk-container-id-4 div.sk-estimator {font-family: monospace;background-color: #f0f8ff;border: 1px dotted black;border-radius: 0.25em;box-sizing: border-box;margin-bottom: 0.5em;}#sk-container-id-4 div.sk-estimator:hover {background-color: #d4ebff;}#sk-container-id-4 div.sk-parallel-item::after {content: \"\";width: 100%;border-bottom: 1px solid gray;flex-grow: 1;}#sk-container-id-4 div.sk-label:hover label.sk-toggleable__label {background-color: #d4ebff;}#sk-container-id-4 div.sk-serial::before {content: \"\";position: absolute;border-left: 1px solid gray;box-sizing: border-box;top: 0;bottom: 0;left: 50%;z-index: 0;}#sk-container-id-4 div.sk-serial {display: flex;flex-direction: column;align-items: center;background-color: white;padding-right: 0.2em;padding-left: 0.2em;position: relative;}#sk-container-id-4 div.sk-item {position: relative;z-index: 1;}#sk-container-id-4 div.sk-parallel {display: flex;align-items: stretch;justify-content: center;background-color: white;position: relative;}#sk-container-id-4 div.sk-item::before, #sk-container-id-4 div.sk-parallel-item::before {content: \"\";position: absolute;border-left: 1px solid gray;box-sizing: border-box;top: 0;bottom: 0;left: 50%;z-index: -1;}#sk-container-id-4 div.sk-parallel-item {display: flex;flex-direction: column;z-index: 1;position: relative;background-color: white;}#sk-container-id-4 div.sk-parallel-item:first-child::after {align-self: flex-end;width: 50%;}#sk-container-id-4 div.sk-parallel-item:last-child::after {align-self: flex-start;width: 50%;}#sk-container-id-4 div.sk-parallel-item:only-child::after {width: 0;}#sk-container-id-4 div.sk-dashed-wrapped {border: 1px dashed gray;margin: 0 0.4em 0.5em 0.4em;box-sizing: border-box;padding-bottom: 0.4em;background-color: white;}#sk-container-id-4 div.sk-label label {font-family: monospace;font-weight: bold;display: inline-block;line-height: 1.2em;}#sk-container-id-4 div.sk-label-container {text-align: center;}#sk-container-id-4 div.sk-container {/* jupyter's `normalize.less` sets `[hidden] { display: none; }` but bootstrap.min.css set `[hidden] { display: none !important; }` so we also need the `!important` here to be able to override the default hidden behavior on the sphinx rendered scikit-learn.org. See: https://github.com/scikit-learn/scikit-learn/issues/21755 */display: inline-block !important;position: relative;}#sk-container-id-4 div.sk-text-repr-fallback {display: none;}</style><div id=\"sk-container-id-4\" class=\"sk-top-container\"><div class=\"sk-text-repr-fallback\"><pre>XGBRegressor(base_score=None, booster=None, callbacks=None,\n",
       "             colsample_bylevel=None, colsample_bynode=None,\n",
       "             colsample_bytree=None, early_stopping_rounds=None,\n",
       "             enable_categorical=False, eval_metric=None, feature_types=None,\n",
       "             gamma=None, gpu_id=None, grow_policy=None, importance_type=None,\n",
       "             interaction_constraints=None, learning_rate=None, max_bin=None,\n",
       "             max_cat_threshold=None, max_cat_to_onehot=None,\n",
       "             max_delta_step=None, max_depth=None, max_leaves=None,\n",
       "             min_child_weight=None, missing=nan, monotone_constraints=None,\n",
       "             n_estimators=100, n_jobs=None, num_parallel_tree=None,\n",
       "             predictor=None, random_state=None, ...)</pre><b>In a Jupyter environment, please rerun this cell to show the HTML representation or trust the notebook. <br />On GitHub, the HTML representation is unable to render, please try loading this page with nbviewer.org.</b></div><div class=\"sk-container\" hidden><div class=\"sk-item\"><div class=\"sk-estimator sk-toggleable\"><input class=\"sk-toggleable__control sk-hidden--visually\" id=\"sk-estimator-id-4\" type=\"checkbox\" checked><label for=\"sk-estimator-id-4\" class=\"sk-toggleable__label sk-toggleable__label-arrow\">XGBRegressor</label><div class=\"sk-toggleable__content\"><pre>XGBRegressor(base_score=None, booster=None, callbacks=None,\n",
       "             colsample_bylevel=None, colsample_bynode=None,\n",
       "             colsample_bytree=None, early_stopping_rounds=None,\n",
       "             enable_categorical=False, eval_metric=None, feature_types=None,\n",
       "             gamma=None, gpu_id=None, grow_policy=None, importance_type=None,\n",
       "             interaction_constraints=None, learning_rate=None, max_bin=None,\n",
       "             max_cat_threshold=None, max_cat_to_onehot=None,\n",
       "             max_delta_step=None, max_depth=None, max_leaves=None,\n",
       "             min_child_weight=None, missing=nan, monotone_constraints=None,\n",
       "             n_estimators=100, n_jobs=None, num_parallel_tree=None,\n",
       "             predictor=None, random_state=None, ...)</pre></div></div></div></div></div>"
      ],
      "text/plain": [
       "XGBRegressor(base_score=None, booster=None, callbacks=None,\n",
       "             colsample_bylevel=None, colsample_bynode=None,\n",
       "             colsample_bytree=None, early_stopping_rounds=None,\n",
       "             enable_categorical=False, eval_metric=None, feature_types=None,\n",
       "             gamma=None, gpu_id=None, grow_policy=None, importance_type=None,\n",
       "             interaction_constraints=None, learning_rate=None, max_bin=None,\n",
       "             max_cat_threshold=None, max_cat_to_onehot=None,\n",
       "             max_delta_step=None, max_depth=None, max_leaves=None,\n",
       "             min_child_weight=None, missing=nan, monotone_constraints=None,\n",
       "             n_estimators=100, n_jobs=None, num_parallel_tree=None,\n",
       "             predictor=None, random_state=None, ...)"
      ]
     },
     "execution_count": 18,
     "metadata": {},
     "output_type": "execute_result"
    }
   ],
   "source": [
    "model_xgb = XGBRegressor()\n",
    "model_xgb.fit(X= X_train_prepared, y=y_train)"
   ]
  },
  {
   "cell_type": "code",
   "execution_count": 19,
   "id": "cbc1d32a",
   "metadata": {
    "execution": {
     "iopub.execute_input": "2023-08-02T12:05:21.014014Z",
     "iopub.status.busy": "2023-08-02T12:05:21.013094Z",
     "iopub.status.idle": "2023-08-02T12:05:21.067569Z",
     "shell.execute_reply": "2023-08-02T12:05:21.066389Z"
    },
    "papermill": {
     "duration": 0.069033,
     "end_time": "2023-08-02T12:05:21.069599",
     "exception": false,
     "start_time": "2023-08-02T12:05:21.000566",
     "status": "completed"
    },
    "tags": []
   },
   "outputs": [
    {
     "name": "stdout",
     "output_type": "stream",
     "text": [
      "MAE= 2172.332624382019\n",
      "RMSE= 3838.270191039945\n"
     ]
    }
   ],
   "source": [
    "pred_rf = model_xgb.predict(X_test_prepared)\n",
    "mae = mean_absolute_error(y_test, pred_rf)\n",
    "mse = mean_squared_error(y_test, pred_rf)\n",
    "print(\"MAE=\", mae)\n",
    "print(\"RMSE=\", np.sqrt(mse))"
   ]
  },
  {
   "cell_type": "code",
   "execution_count": 20,
   "id": "fb8a2dfa",
   "metadata": {
    "execution": {
     "iopub.execute_input": "2023-08-02T12:05:21.095391Z",
     "iopub.status.busy": "2023-08-02T12:05:21.095116Z",
     "iopub.status.idle": "2023-08-02T12:05:21.124416Z",
     "shell.execute_reply": "2023-08-02T12:05:21.123396Z"
    },
    "papermill": {
     "duration": 0.044099,
     "end_time": "2023-08-02T12:05:21.126608",
     "exception": false,
     "start_time": "2023-08-02T12:05:21.082509",
     "status": "completed"
    },
    "tags": []
   },
   "outputs": [
    {
     "data": {
      "text/html": [
       "<div>\n",
       "<style scoped>\n",
       "    .dataframe tbody tr th:only-of-type {\n",
       "        vertical-align: middle;\n",
       "    }\n",
       "\n",
       "    .dataframe tbody tr th {\n",
       "        vertical-align: top;\n",
       "    }\n",
       "\n",
       "    .dataframe thead th {\n",
       "        text-align: right;\n",
       "    }\n",
       "</style>\n",
       "<table border=\"1\" class=\"dataframe\">\n",
       "  <thead>\n",
       "    <tr style=\"text-align: right;\">\n",
       "      <th></th>\n",
       "      <th>price</th>\n",
       "    </tr>\n",
       "    <tr>\n",
       "      <th>id</th>\n",
       "      <th></th>\n",
       "    </tr>\n",
       "  </thead>\n",
       "  <tbody>\n",
       "    <tr>\n",
       "      <th>1</th>\n",
       "      <td>0</td>\n",
       "    </tr>\n",
       "    <tr>\n",
       "      <th>2</th>\n",
       "      <td>0</td>\n",
       "    </tr>\n",
       "    <tr>\n",
       "      <th>3</th>\n",
       "      <td>0</td>\n",
       "    </tr>\n",
       "    <tr>\n",
       "      <th>4</th>\n",
       "      <td>0</td>\n",
       "    </tr>\n",
       "    <tr>\n",
       "      <th>5</th>\n",
       "      <td>0</td>\n",
       "    </tr>\n",
       "    <tr>\n",
       "      <th>...</th>\n",
       "      <td>...</td>\n",
       "    </tr>\n",
       "    <tr>\n",
       "      <th>4996</th>\n",
       "      <td>0</td>\n",
       "    </tr>\n",
       "    <tr>\n",
       "      <th>4997</th>\n",
       "      <td>0</td>\n",
       "    </tr>\n",
       "    <tr>\n",
       "      <th>4998</th>\n",
       "      <td>0</td>\n",
       "    </tr>\n",
       "    <tr>\n",
       "      <th>4999</th>\n",
       "      <td>0</td>\n",
       "    </tr>\n",
       "    <tr>\n",
       "      <th>5000</th>\n",
       "      <td>0</td>\n",
       "    </tr>\n",
       "  </tbody>\n",
       "</table>\n",
       "<p>5000 rows × 1 columns</p>\n",
       "</div>"
      ],
      "text/plain": [
       "      price\n",
       "id         \n",
       "1         0\n",
       "2         0\n",
       "3         0\n",
       "4         0\n",
       "5         0\n",
       "...     ...\n",
       "4996      0\n",
       "4997      0\n",
       "4998      0\n",
       "4999      0\n",
       "5000      0\n",
       "\n",
       "[5000 rows x 1 columns]"
      ]
     },
     "execution_count": 20,
     "metadata": {},
     "output_type": "execute_result"
    }
   ],
   "source": [
    "sub = pd.read_csv(\"/kaggle/input/aviachipta-narxini-bashorat-qilish/sample_solution.csv\", index_col=0)\n",
    "sub"
   ]
  },
  {
   "cell_type": "code",
   "execution_count": 21,
   "id": "029c8ca8",
   "metadata": {
    "execution": {
     "iopub.execute_input": "2023-08-02T12:05:21.152024Z",
     "iopub.status.busy": "2023-08-02T12:05:21.151761Z",
     "iopub.status.idle": "2023-08-02T12:05:21.186451Z",
     "shell.execute_reply": "2023-08-02T12:05:21.185571Z"
    },
    "papermill": {
     "duration": 0.050437,
     "end_time": "2023-08-02T12:05:21.189200",
     "exception": false,
     "start_time": "2023-08-02T12:05:21.138763",
     "status": "completed"
    },
    "tags": []
   },
   "outputs": [
    {
     "data": {
      "text/html": [
       "<div>\n",
       "<style scoped>\n",
       "    .dataframe tbody tr th:only-of-type {\n",
       "        vertical-align: middle;\n",
       "    }\n",
       "\n",
       "    .dataframe tbody tr th {\n",
       "        vertical-align: top;\n",
       "    }\n",
       "\n",
       "    .dataframe thead th {\n",
       "        text-align: right;\n",
       "    }\n",
       "</style>\n",
       "<table border=\"1\" class=\"dataframe\">\n",
       "  <thead>\n",
       "    <tr style=\"text-align: right;\">\n",
       "      <th></th>\n",
       "      <th>airline</th>\n",
       "      <th>flight</th>\n",
       "      <th>source_city</th>\n",
       "      <th>departure_time</th>\n",
       "      <th>stops</th>\n",
       "      <th>arrival_time</th>\n",
       "      <th>destination_city</th>\n",
       "      <th>class</th>\n",
       "      <th>duration</th>\n",
       "      <th>days_left</th>\n",
       "    </tr>\n",
       "    <tr>\n",
       "      <th>id</th>\n",
       "      <th></th>\n",
       "      <th></th>\n",
       "      <th></th>\n",
       "      <th></th>\n",
       "      <th></th>\n",
       "      <th></th>\n",
       "      <th></th>\n",
       "      <th></th>\n",
       "      <th></th>\n",
       "      <th></th>\n",
       "    </tr>\n",
       "  </thead>\n",
       "  <tbody>\n",
       "    <tr>\n",
       "      <th>1</th>\n",
       "      <td>Air_India</td>\n",
       "      <td>AI-765</td>\n",
       "      <td>Kolkata</td>\n",
       "      <td>Evening</td>\n",
       "      <td>one</td>\n",
       "      <td>Night</td>\n",
       "      <td>Delhi</td>\n",
       "      <td>Business</td>\n",
       "      <td>28.25</td>\n",
       "      <td>2</td>\n",
       "    </tr>\n",
       "    <tr>\n",
       "      <th>2</th>\n",
       "      <td>Vistara</td>\n",
       "      <td>UK-747</td>\n",
       "      <td>Delhi</td>\n",
       "      <td>Early_Morning</td>\n",
       "      <td>one</td>\n",
       "      <td>Night</td>\n",
       "      <td>Mumbai</td>\n",
       "      <td>Business</td>\n",
       "      <td>13.83</td>\n",
       "      <td>34</td>\n",
       "    </tr>\n",
       "    <tr>\n",
       "      <th>3</th>\n",
       "      <td>Air_India</td>\n",
       "      <td>AI-570</td>\n",
       "      <td>Mumbai</td>\n",
       "      <td>Early_Morning</td>\n",
       "      <td>zero</td>\n",
       "      <td>Early_Morning</td>\n",
       "      <td>Chennai</td>\n",
       "      <td>Business</td>\n",
       "      <td>2.00</td>\n",
       "      <td>30</td>\n",
       "    </tr>\n",
       "    <tr>\n",
       "      <th>4</th>\n",
       "      <td>AirAsia</td>\n",
       "      <td>I5-974</td>\n",
       "      <td>Hyderabad</td>\n",
       "      <td>Night</td>\n",
       "      <td>one</td>\n",
       "      <td>Late_Night</td>\n",
       "      <td>Delhi</td>\n",
       "      <td>Economy</td>\n",
       "      <td>5.17</td>\n",
       "      <td>26</td>\n",
       "    </tr>\n",
       "    <tr>\n",
       "      <th>5</th>\n",
       "      <td>Air_India</td>\n",
       "      <td>AI-770</td>\n",
       "      <td>Kolkata</td>\n",
       "      <td>Night</td>\n",
       "      <td>one</td>\n",
       "      <td>Afternoon</td>\n",
       "      <td>Mumbai</td>\n",
       "      <td>Economy</td>\n",
       "      <td>16.33</td>\n",
       "      <td>35</td>\n",
       "    </tr>\n",
       "    <tr>\n",
       "      <th>...</th>\n",
       "      <td>...</td>\n",
       "      <td>...</td>\n",
       "      <td>...</td>\n",
       "      <td>...</td>\n",
       "      <td>...</td>\n",
       "      <td>...</td>\n",
       "      <td>...</td>\n",
       "      <td>...</td>\n",
       "      <td>...</td>\n",
       "      <td>...</td>\n",
       "    </tr>\n",
       "    <tr>\n",
       "      <th>4996</th>\n",
       "      <td>Air_India</td>\n",
       "      <td>AI-768</td>\n",
       "      <td>Kolkata</td>\n",
       "      <td>Afternoon</td>\n",
       "      <td>one</td>\n",
       "      <td>Morning</td>\n",
       "      <td>Bangalore</td>\n",
       "      <td>Business</td>\n",
       "      <td>17.42</td>\n",
       "      <td>15</td>\n",
       "    </tr>\n",
       "    <tr>\n",
       "      <th>4997</th>\n",
       "      <td>Indigo</td>\n",
       "      <td>6E-6214</td>\n",
       "      <td>Kolkata</td>\n",
       "      <td>Morning</td>\n",
       "      <td>zero</td>\n",
       "      <td>Afternoon</td>\n",
       "      <td>Mumbai</td>\n",
       "      <td>Economy</td>\n",
       "      <td>3.00</td>\n",
       "      <td>40</td>\n",
       "    </tr>\n",
       "    <tr>\n",
       "      <th>4998</th>\n",
       "      <td>Air_India</td>\n",
       "      <td>AI-402</td>\n",
       "      <td>Kolkata</td>\n",
       "      <td>Morning</td>\n",
       "      <td>one</td>\n",
       "      <td>Night</td>\n",
       "      <td>Mumbai</td>\n",
       "      <td>Business</td>\n",
       "      <td>11.17</td>\n",
       "      <td>37</td>\n",
       "    </tr>\n",
       "    <tr>\n",
       "      <th>4999</th>\n",
       "      <td>Air_India</td>\n",
       "      <td>AI-673</td>\n",
       "      <td>Mumbai</td>\n",
       "      <td>Early_Morning</td>\n",
       "      <td>one</td>\n",
       "      <td>Night</td>\n",
       "      <td>Hyderabad</td>\n",
       "      <td>Business</td>\n",
       "      <td>13.33</td>\n",
       "      <td>38</td>\n",
       "    </tr>\n",
       "    <tr>\n",
       "      <th>5000</th>\n",
       "      <td>Vistara</td>\n",
       "      <td>UK-774</td>\n",
       "      <td>Kolkata</td>\n",
       "      <td>Night</td>\n",
       "      <td>one</td>\n",
       "      <td>Afternoon</td>\n",
       "      <td>Delhi</td>\n",
       "      <td>Business</td>\n",
       "      <td>16.08</td>\n",
       "      <td>49</td>\n",
       "    </tr>\n",
       "  </tbody>\n",
       "</table>\n",
       "<p>5000 rows × 10 columns</p>\n",
       "</div>"
      ],
      "text/plain": [
       "        airline   flight source_city departure_time stops   arrival_time  \\\n",
       "id                                                                         \n",
       "1     Air_India   AI-765     Kolkata        Evening   one          Night   \n",
       "2       Vistara   UK-747       Delhi  Early_Morning   one          Night   \n",
       "3     Air_India   AI-570      Mumbai  Early_Morning  zero  Early_Morning   \n",
       "4       AirAsia   I5-974   Hyderabad          Night   one     Late_Night   \n",
       "5     Air_India   AI-770     Kolkata          Night   one      Afternoon   \n",
       "...         ...      ...         ...            ...   ...            ...   \n",
       "4996  Air_India   AI-768     Kolkata      Afternoon   one        Morning   \n",
       "4997     Indigo  6E-6214     Kolkata        Morning  zero      Afternoon   \n",
       "4998  Air_India   AI-402     Kolkata        Morning   one          Night   \n",
       "4999  Air_India   AI-673      Mumbai  Early_Morning   one          Night   \n",
       "5000    Vistara   UK-774     Kolkata          Night   one      Afternoon   \n",
       "\n",
       "     destination_city     class  duration  days_left  \n",
       "id                                                    \n",
       "1               Delhi  Business     28.25          2  \n",
       "2              Mumbai  Business     13.83         34  \n",
       "3             Chennai  Business      2.00         30  \n",
       "4               Delhi   Economy      5.17         26  \n",
       "5              Mumbai   Economy     16.33         35  \n",
       "...               ...       ...       ...        ...  \n",
       "4996        Bangalore  Business     17.42         15  \n",
       "4997           Mumbai   Economy      3.00         40  \n",
       "4998           Mumbai  Business     11.17         37  \n",
       "4999        Hyderabad  Business     13.33         38  \n",
       "5000            Delhi  Business     16.08         49  \n",
       "\n",
       "[5000 rows x 10 columns]"
      ]
     },
     "execution_count": 21,
     "metadata": {},
     "output_type": "execute_result"
    }
   ],
   "source": [
    "test_data = pd.read_csv(\"/kaggle/input/aviachipta-narxini-bashorat-qilish/test_data.csv\", index_col=0)\n",
    "test_data"
   ]
  },
  {
   "cell_type": "code",
   "execution_count": 22,
   "id": "7252dc94",
   "metadata": {
    "execution": {
     "iopub.execute_input": "2023-08-02T12:05:21.217059Z",
     "iopub.status.busy": "2023-08-02T12:05:21.216797Z",
     "iopub.status.idle": "2023-08-02T12:05:21.235619Z",
     "shell.execute_reply": "2023-08-02T12:05:21.234716Z"
    },
    "papermill": {
     "duration": 0.033974,
     "end_time": "2023-08-02T12:05:21.237706",
     "exception": false,
     "start_time": "2023-08-02T12:05:21.203732",
     "status": "completed"
    },
    "tags": []
   },
   "outputs": [
    {
     "data": {
      "text/plain": [
       "airline             0\n",
       "flight              0\n",
       "source_city         0\n",
       "departure_time      0\n",
       "stops               0\n",
       "arrival_time        0\n",
       "destination_city    0\n",
       "class               0\n",
       "duration            0\n",
       "days_left           0\n",
       "dtype: int64"
      ]
     },
     "execution_count": 22,
     "metadata": {},
     "output_type": "execute_result"
    }
   ],
   "source": [
    "test_data.isna().sum()"
   ]
  },
  {
   "cell_type": "code",
   "execution_count": 23,
   "id": "e4c3f51c",
   "metadata": {
    "execution": {
     "iopub.execute_input": "2023-08-02T12:05:21.264508Z",
     "iopub.status.busy": "2023-08-02T12:05:21.263753Z",
     "iopub.status.idle": "2023-08-02T12:05:21.304981Z",
     "shell.execute_reply": "2023-08-02T12:05:21.304103Z"
    },
    "papermill": {
     "duration": 0.056477,
     "end_time": "2023-08-02T12:05:21.307009",
     "exception": false,
     "start_time": "2023-08-02T12:05:21.250532",
     "status": "completed"
    },
    "tags": []
   },
   "outputs": [],
   "source": [
    "test_data_dummy = pd.get_dummies(test_data)"
   ]
  },
  {
   "cell_type": "code",
   "execution_count": 24,
   "id": "8641570a",
   "metadata": {
    "execution": {
     "iopub.execute_input": "2023-08-02T12:05:21.333346Z",
     "iopub.status.busy": "2023-08-02T12:05:21.332588Z",
     "iopub.status.idle": "2023-08-02T12:05:21.354319Z",
     "shell.execute_reply": "2023-08-02T12:05:21.353343Z"
    },
    "papermill": {
     "duration": 0.037433,
     "end_time": "2023-08-02T12:05:21.356887",
     "exception": false,
     "start_time": "2023-08-02T12:05:21.319454",
     "status": "completed"
    },
    "tags": []
   },
   "outputs": [
    {
     "data": {
      "text/html": [
       "<div>\n",
       "<style scoped>\n",
       "    .dataframe tbody tr th:only-of-type {\n",
       "        vertical-align: middle;\n",
       "    }\n",
       "\n",
       "    .dataframe tbody tr th {\n",
       "        vertical-align: top;\n",
       "    }\n",
       "\n",
       "    .dataframe thead th {\n",
       "        text-align: right;\n",
       "    }\n",
       "</style>\n",
       "<table border=\"1\" class=\"dataframe\">\n",
       "  <thead>\n",
       "    <tr style=\"text-align: right;\">\n",
       "      <th></th>\n",
       "      <th>duration</th>\n",
       "      <th>days_left</th>\n",
       "      <th>airline_AirAsia</th>\n",
       "      <th>airline_Air_India</th>\n",
       "      <th>airline_GO_FIRST</th>\n",
       "      <th>airline_Indigo</th>\n",
       "      <th>airline_SpiceJet</th>\n",
       "      <th>airline_Vistara</th>\n",
       "      <th>flight_6E-102</th>\n",
       "      <th>flight_6E-121</th>\n",
       "      <th>...</th>\n",
       "      <th>arrival_time_Morning</th>\n",
       "      <th>arrival_time_Night</th>\n",
       "      <th>destination_city_Bangalore</th>\n",
       "      <th>destination_city_Chennai</th>\n",
       "      <th>destination_city_Delhi</th>\n",
       "      <th>destination_city_Hyderabad</th>\n",
       "      <th>destination_city_Kolkata</th>\n",
       "      <th>destination_city_Mumbai</th>\n",
       "      <th>class_Business</th>\n",
       "      <th>class_Economy</th>\n",
       "    </tr>\n",
       "    <tr>\n",
       "      <th>id</th>\n",
       "      <th></th>\n",
       "      <th></th>\n",
       "      <th></th>\n",
       "      <th></th>\n",
       "      <th></th>\n",
       "      <th></th>\n",
       "      <th></th>\n",
       "      <th></th>\n",
       "      <th></th>\n",
       "      <th></th>\n",
       "      <th></th>\n",
       "      <th></th>\n",
       "      <th></th>\n",
       "      <th></th>\n",
       "      <th></th>\n",
       "      <th></th>\n",
       "      <th></th>\n",
       "      <th></th>\n",
       "      <th></th>\n",
       "      <th></th>\n",
       "      <th></th>\n",
       "    </tr>\n",
       "  </thead>\n",
       "  <tbody>\n",
       "    <tr>\n",
       "      <th>1</th>\n",
       "      <td>28.25</td>\n",
       "      <td>2</td>\n",
       "      <td>0</td>\n",
       "      <td>1</td>\n",
       "      <td>0</td>\n",
       "      <td>0</td>\n",
       "      <td>0</td>\n",
       "      <td>0</td>\n",
       "      <td>0</td>\n",
       "      <td>0</td>\n",
       "      <td>...</td>\n",
       "      <td>0</td>\n",
       "      <td>1</td>\n",
       "      <td>0</td>\n",
       "      <td>0</td>\n",
       "      <td>1</td>\n",
       "      <td>0</td>\n",
       "      <td>0</td>\n",
       "      <td>0</td>\n",
       "      <td>1</td>\n",
       "      <td>0</td>\n",
       "    </tr>\n",
       "    <tr>\n",
       "      <th>2</th>\n",
       "      <td>13.83</td>\n",
       "      <td>34</td>\n",
       "      <td>0</td>\n",
       "      <td>0</td>\n",
       "      <td>0</td>\n",
       "      <td>0</td>\n",
       "      <td>0</td>\n",
       "      <td>1</td>\n",
       "      <td>0</td>\n",
       "      <td>0</td>\n",
       "      <td>...</td>\n",
       "      <td>0</td>\n",
       "      <td>1</td>\n",
       "      <td>0</td>\n",
       "      <td>0</td>\n",
       "      <td>0</td>\n",
       "      <td>0</td>\n",
       "      <td>0</td>\n",
       "      <td>1</td>\n",
       "      <td>1</td>\n",
       "      <td>0</td>\n",
       "    </tr>\n",
       "    <tr>\n",
       "      <th>3</th>\n",
       "      <td>2.00</td>\n",
       "      <td>30</td>\n",
       "      <td>0</td>\n",
       "      <td>1</td>\n",
       "      <td>0</td>\n",
       "      <td>0</td>\n",
       "      <td>0</td>\n",
       "      <td>0</td>\n",
       "      <td>0</td>\n",
       "      <td>0</td>\n",
       "      <td>...</td>\n",
       "      <td>0</td>\n",
       "      <td>0</td>\n",
       "      <td>0</td>\n",
       "      <td>1</td>\n",
       "      <td>0</td>\n",
       "      <td>0</td>\n",
       "      <td>0</td>\n",
       "      <td>0</td>\n",
       "      <td>1</td>\n",
       "      <td>0</td>\n",
       "    </tr>\n",
       "    <tr>\n",
       "      <th>4</th>\n",
       "      <td>5.17</td>\n",
       "      <td>26</td>\n",
       "      <td>1</td>\n",
       "      <td>0</td>\n",
       "      <td>0</td>\n",
       "      <td>0</td>\n",
       "      <td>0</td>\n",
       "      <td>0</td>\n",
       "      <td>0</td>\n",
       "      <td>0</td>\n",
       "      <td>...</td>\n",
       "      <td>0</td>\n",
       "      <td>0</td>\n",
       "      <td>0</td>\n",
       "      <td>0</td>\n",
       "      <td>1</td>\n",
       "      <td>0</td>\n",
       "      <td>0</td>\n",
       "      <td>0</td>\n",
       "      <td>0</td>\n",
       "      <td>1</td>\n",
       "    </tr>\n",
       "    <tr>\n",
       "      <th>5</th>\n",
       "      <td>16.33</td>\n",
       "      <td>35</td>\n",
       "      <td>0</td>\n",
       "      <td>1</td>\n",
       "      <td>0</td>\n",
       "      <td>0</td>\n",
       "      <td>0</td>\n",
       "      <td>0</td>\n",
       "      <td>0</td>\n",
       "      <td>0</td>\n",
       "      <td>...</td>\n",
       "      <td>0</td>\n",
       "      <td>0</td>\n",
       "      <td>0</td>\n",
       "      <td>0</td>\n",
       "      <td>0</td>\n",
       "      <td>0</td>\n",
       "      <td>0</td>\n",
       "      <td>1</td>\n",
       "      <td>0</td>\n",
       "      <td>1</td>\n",
       "    </tr>\n",
       "    <tr>\n",
       "      <th>...</th>\n",
       "      <td>...</td>\n",
       "      <td>...</td>\n",
       "      <td>...</td>\n",
       "      <td>...</td>\n",
       "      <td>...</td>\n",
       "      <td>...</td>\n",
       "      <td>...</td>\n",
       "      <td>...</td>\n",
       "      <td>...</td>\n",
       "      <td>...</td>\n",
       "      <td>...</td>\n",
       "      <td>...</td>\n",
       "      <td>...</td>\n",
       "      <td>...</td>\n",
       "      <td>...</td>\n",
       "      <td>...</td>\n",
       "      <td>...</td>\n",
       "      <td>...</td>\n",
       "      <td>...</td>\n",
       "      <td>...</td>\n",
       "      <td>...</td>\n",
       "    </tr>\n",
       "    <tr>\n",
       "      <th>4996</th>\n",
       "      <td>17.42</td>\n",
       "      <td>15</td>\n",
       "      <td>0</td>\n",
       "      <td>1</td>\n",
       "      <td>0</td>\n",
       "      <td>0</td>\n",
       "      <td>0</td>\n",
       "      <td>0</td>\n",
       "      <td>0</td>\n",
       "      <td>0</td>\n",
       "      <td>...</td>\n",
       "      <td>1</td>\n",
       "      <td>0</td>\n",
       "      <td>1</td>\n",
       "      <td>0</td>\n",
       "      <td>0</td>\n",
       "      <td>0</td>\n",
       "      <td>0</td>\n",
       "      <td>0</td>\n",
       "      <td>1</td>\n",
       "      <td>0</td>\n",
       "    </tr>\n",
       "    <tr>\n",
       "      <th>4997</th>\n",
       "      <td>3.00</td>\n",
       "      <td>40</td>\n",
       "      <td>0</td>\n",
       "      <td>0</td>\n",
       "      <td>0</td>\n",
       "      <td>1</td>\n",
       "      <td>0</td>\n",
       "      <td>0</td>\n",
       "      <td>0</td>\n",
       "      <td>0</td>\n",
       "      <td>...</td>\n",
       "      <td>0</td>\n",
       "      <td>0</td>\n",
       "      <td>0</td>\n",
       "      <td>0</td>\n",
       "      <td>0</td>\n",
       "      <td>0</td>\n",
       "      <td>0</td>\n",
       "      <td>1</td>\n",
       "      <td>0</td>\n",
       "      <td>1</td>\n",
       "    </tr>\n",
       "    <tr>\n",
       "      <th>4998</th>\n",
       "      <td>11.17</td>\n",
       "      <td>37</td>\n",
       "      <td>0</td>\n",
       "      <td>1</td>\n",
       "      <td>0</td>\n",
       "      <td>0</td>\n",
       "      <td>0</td>\n",
       "      <td>0</td>\n",
       "      <td>0</td>\n",
       "      <td>0</td>\n",
       "      <td>...</td>\n",
       "      <td>0</td>\n",
       "      <td>1</td>\n",
       "      <td>0</td>\n",
       "      <td>0</td>\n",
       "      <td>0</td>\n",
       "      <td>0</td>\n",
       "      <td>0</td>\n",
       "      <td>1</td>\n",
       "      <td>1</td>\n",
       "      <td>0</td>\n",
       "    </tr>\n",
       "    <tr>\n",
       "      <th>4999</th>\n",
       "      <td>13.33</td>\n",
       "      <td>38</td>\n",
       "      <td>0</td>\n",
       "      <td>1</td>\n",
       "      <td>0</td>\n",
       "      <td>0</td>\n",
       "      <td>0</td>\n",
       "      <td>0</td>\n",
       "      <td>0</td>\n",
       "      <td>0</td>\n",
       "      <td>...</td>\n",
       "      <td>0</td>\n",
       "      <td>1</td>\n",
       "      <td>0</td>\n",
       "      <td>0</td>\n",
       "      <td>0</td>\n",
       "      <td>1</td>\n",
       "      <td>0</td>\n",
       "      <td>0</td>\n",
       "      <td>1</td>\n",
       "      <td>0</td>\n",
       "    </tr>\n",
       "    <tr>\n",
       "      <th>5000</th>\n",
       "      <td>16.08</td>\n",
       "      <td>49</td>\n",
       "      <td>0</td>\n",
       "      <td>0</td>\n",
       "      <td>0</td>\n",
       "      <td>0</td>\n",
       "      <td>0</td>\n",
       "      <td>1</td>\n",
       "      <td>0</td>\n",
       "      <td>0</td>\n",
       "      <td>...</td>\n",
       "      <td>0</td>\n",
       "      <td>0</td>\n",
       "      <td>0</td>\n",
       "      <td>0</td>\n",
       "      <td>1</td>\n",
       "      <td>0</td>\n",
       "      <td>0</td>\n",
       "      <td>0</td>\n",
       "      <td>1</td>\n",
       "      <td>0</td>\n",
       "    </tr>\n",
       "  </tbody>\n",
       "</table>\n",
       "<p>5000 rows × 978 columns</p>\n",
       "</div>"
      ],
      "text/plain": [
       "      duration  days_left  airline_AirAsia  airline_Air_India  \\\n",
       "id                                                              \n",
       "1        28.25          2                0                  1   \n",
       "2        13.83         34                0                  0   \n",
       "3         2.00         30                0                  1   \n",
       "4         5.17         26                1                  0   \n",
       "5        16.33         35                0                  1   \n",
       "...        ...        ...              ...                ...   \n",
       "4996     17.42         15                0                  1   \n",
       "4997      3.00         40                0                  0   \n",
       "4998     11.17         37                0                  1   \n",
       "4999     13.33         38                0                  1   \n",
       "5000     16.08         49                0                  0   \n",
       "\n",
       "      airline_GO_FIRST  airline_Indigo  airline_SpiceJet  airline_Vistara  \\\n",
       "id                                                                          \n",
       "1                    0               0                 0                0   \n",
       "2                    0               0                 0                1   \n",
       "3                    0               0                 0                0   \n",
       "4                    0               0                 0                0   \n",
       "5                    0               0                 0                0   \n",
       "...                ...             ...               ...              ...   \n",
       "4996                 0               0                 0                0   \n",
       "4997                 0               1                 0                0   \n",
       "4998                 0               0                 0                0   \n",
       "4999                 0               0                 0                0   \n",
       "5000                 0               0                 0                1   \n",
       "\n",
       "      flight_6E-102  flight_6E-121  ...  arrival_time_Morning  \\\n",
       "id                                  ...                         \n",
       "1                 0              0  ...                     0   \n",
       "2                 0              0  ...                     0   \n",
       "3                 0              0  ...                     0   \n",
       "4                 0              0  ...                     0   \n",
       "5                 0              0  ...                     0   \n",
       "...             ...            ...  ...                   ...   \n",
       "4996              0              0  ...                     1   \n",
       "4997              0              0  ...                     0   \n",
       "4998              0              0  ...                     0   \n",
       "4999              0              0  ...                     0   \n",
       "5000              0              0  ...                     0   \n",
       "\n",
       "      arrival_time_Night  destination_city_Bangalore  \\\n",
       "id                                                     \n",
       "1                      1                           0   \n",
       "2                      1                           0   \n",
       "3                      0                           0   \n",
       "4                      0                           0   \n",
       "5                      0                           0   \n",
       "...                  ...                         ...   \n",
       "4996                   0                           1   \n",
       "4997                   0                           0   \n",
       "4998                   1                           0   \n",
       "4999                   1                           0   \n",
       "5000                   0                           0   \n",
       "\n",
       "      destination_city_Chennai  destination_city_Delhi  \\\n",
       "id                                                       \n",
       "1                            0                       1   \n",
       "2                            0                       0   \n",
       "3                            1                       0   \n",
       "4                            0                       1   \n",
       "5                            0                       0   \n",
       "...                        ...                     ...   \n",
       "4996                         0                       0   \n",
       "4997                         0                       0   \n",
       "4998                         0                       0   \n",
       "4999                         0                       0   \n",
       "5000                         0                       1   \n",
       "\n",
       "      destination_city_Hyderabad  destination_city_Kolkata  \\\n",
       "id                                                           \n",
       "1                              0                         0   \n",
       "2                              0                         0   \n",
       "3                              0                         0   \n",
       "4                              0                         0   \n",
       "5                              0                         0   \n",
       "...                          ...                       ...   \n",
       "4996                           0                         0   \n",
       "4997                           0                         0   \n",
       "4998                           0                         0   \n",
       "4999                           1                         0   \n",
       "5000                           0                         0   \n",
       "\n",
       "      destination_city_Mumbai  class_Business  class_Economy  \n",
       "id                                                            \n",
       "1                           0               1              0  \n",
       "2                           1               1              0  \n",
       "3                           0               1              0  \n",
       "4                           0               0              1  \n",
       "5                           1               0              1  \n",
       "...                       ...             ...            ...  \n",
       "4996                        0               1              0  \n",
       "4997                        1               0              1  \n",
       "4998                        1               1              0  \n",
       "4999                        0               1              0  \n",
       "5000                        0               1              0  \n",
       "\n",
       "[5000 rows x 978 columns]"
      ]
     },
     "execution_count": 24,
     "metadata": {},
     "output_type": "execute_result"
    }
   ],
   "source": [
    "test_data_dummy"
   ]
  },
  {
   "cell_type": "code",
   "execution_count": 25,
   "id": "d5b143d6",
   "metadata": {
    "execution": {
     "iopub.execute_input": "2023-08-02T12:05:21.384858Z",
     "iopub.status.busy": "2023-08-02T12:05:21.384092Z",
     "iopub.status.idle": "2023-08-02T12:05:21.390414Z",
     "shell.execute_reply": "2023-08-02T12:05:21.389493Z"
    },
    "papermill": {
     "duration": 0.02224,
     "end_time": "2023-08-02T12:05:21.392349",
     "exception": false,
     "start_time": "2023-08-02T12:05:21.370109",
     "status": "completed"
    },
    "tags": []
   },
   "outputs": [
    {
     "data": {
      "text/plain": [
       "Index(['duration', 'days_left', 'airline_AirAsia', 'airline_Air_India',\n",
       "       'airline_GO_FIRST', 'airline_Indigo', 'airline_SpiceJet',\n",
       "       'airline_Vistara', 'flight_6E-102', 'flight_6E-121',\n",
       "       ...\n",
       "       'arrival_time_Morning', 'arrival_time_Night',\n",
       "       'destination_city_Bangalore', 'destination_city_Chennai',\n",
       "       'destination_city_Delhi', 'destination_city_Hyderabad',\n",
       "       'destination_city_Kolkata', 'destination_city_Mumbai', 'class_Business',\n",
       "       'class_Economy'],\n",
       "      dtype='object', length=978)"
      ]
     },
     "execution_count": 25,
     "metadata": {},
     "output_type": "execute_result"
    }
   ],
   "source": [
    "test_data_dummy.columns"
   ]
  },
  {
   "cell_type": "code",
   "execution_count": 26,
   "id": "84bf797c",
   "metadata": {
    "execution": {
     "iopub.execute_input": "2023-08-02T12:05:21.420481Z",
     "iopub.status.busy": "2023-08-02T12:05:21.419719Z",
     "iopub.status.idle": "2023-08-02T12:06:03.995380Z",
     "shell.execute_reply": "2023-08-02T12:06:03.994390Z"
    },
    "papermill": {
     "duration": 42.605886,
     "end_time": "2023-08-02T12:06:04.011458",
     "exception": false,
     "start_time": "2023-08-02T12:05:21.405572",
     "status": "completed"
    },
    "tags": []
   },
   "outputs": [
    {
     "data": {
      "text/plain": [
       "((20000, 1344), (5000, 1344))"
      ]
     },
     "execution_count": 26,
     "metadata": {},
     "output_type": "execute_result"
    }
   ],
   "source": [
    "test_new = pd.DataFrame(columns= X_dummy.columns, index=np.arange(1,5001))\n",
    "for i in test_new.columns:\n",
    "    if i in test_data_dummy.columns:\n",
    "        test_new[i] = test_data_dummy[i]\n",
    "    else:\n",
    "        test_new[i] = 0\n",
    "\n",
    "X_dummy.shape, test_new.shape"
   ]
  },
  {
   "cell_type": "code",
   "execution_count": 27,
   "id": "ec0e7a54",
   "metadata": {
    "execution": {
     "iopub.execute_input": "2023-08-02T12:06:04.039957Z",
     "iopub.status.busy": "2023-08-02T12:06:04.039130Z",
     "iopub.status.idle": "2023-08-02T12:06:04.069591Z",
     "shell.execute_reply": "2023-08-02T12:06:04.068563Z"
    },
    "papermill": {
     "duration": 0.047381,
     "end_time": "2023-08-02T12:06:04.072202",
     "exception": false,
     "start_time": "2023-08-02T12:06:04.024821",
     "status": "completed"
    },
    "tags": []
   },
   "outputs": [
    {
     "data": {
      "text/html": [
       "<div>\n",
       "<style scoped>\n",
       "    .dataframe tbody tr th:only-of-type {\n",
       "        vertical-align: middle;\n",
       "    }\n",
       "\n",
       "    .dataframe tbody tr th {\n",
       "        vertical-align: top;\n",
       "    }\n",
       "\n",
       "    .dataframe thead th {\n",
       "        text-align: right;\n",
       "    }\n",
       "</style>\n",
       "<table border=\"1\" class=\"dataframe\">\n",
       "  <thead>\n",
       "    <tr style=\"text-align: right;\">\n",
       "      <th></th>\n",
       "      <th>stops</th>\n",
       "      <th>class</th>\n",
       "      <th>duration</th>\n",
       "      <th>days_left</th>\n",
       "      <th>airline_AirAsia</th>\n",
       "      <th>airline_Air_India</th>\n",
       "      <th>airline_GO_FIRST</th>\n",
       "      <th>airline_Indigo</th>\n",
       "      <th>airline_SpiceJet</th>\n",
       "      <th>airline_Vistara</th>\n",
       "      <th>...</th>\n",
       "      <th>arrival_time_Evening</th>\n",
       "      <th>arrival_time_Late_Night</th>\n",
       "      <th>arrival_time_Morning</th>\n",
       "      <th>arrival_time_Night</th>\n",
       "      <th>destination_city_Bangalore</th>\n",
       "      <th>destination_city_Chennai</th>\n",
       "      <th>destination_city_Delhi</th>\n",
       "      <th>destination_city_Hyderabad</th>\n",
       "      <th>destination_city_Kolkata</th>\n",
       "      <th>destination_city_Mumbai</th>\n",
       "    </tr>\n",
       "  </thead>\n",
       "  <tbody>\n",
       "    <tr>\n",
       "      <th>1</th>\n",
       "      <td>0</td>\n",
       "      <td>0</td>\n",
       "      <td>28.25</td>\n",
       "      <td>2</td>\n",
       "      <td>0</td>\n",
       "      <td>1</td>\n",
       "      <td>0</td>\n",
       "      <td>0</td>\n",
       "      <td>0</td>\n",
       "      <td>0</td>\n",
       "      <td>...</td>\n",
       "      <td>0</td>\n",
       "      <td>0</td>\n",
       "      <td>0</td>\n",
       "      <td>1</td>\n",
       "      <td>0</td>\n",
       "      <td>0</td>\n",
       "      <td>1</td>\n",
       "      <td>0</td>\n",
       "      <td>0</td>\n",
       "      <td>0</td>\n",
       "    </tr>\n",
       "    <tr>\n",
       "      <th>2</th>\n",
       "      <td>0</td>\n",
       "      <td>0</td>\n",
       "      <td>13.83</td>\n",
       "      <td>34</td>\n",
       "      <td>0</td>\n",
       "      <td>0</td>\n",
       "      <td>0</td>\n",
       "      <td>0</td>\n",
       "      <td>0</td>\n",
       "      <td>1</td>\n",
       "      <td>...</td>\n",
       "      <td>0</td>\n",
       "      <td>0</td>\n",
       "      <td>0</td>\n",
       "      <td>1</td>\n",
       "      <td>0</td>\n",
       "      <td>0</td>\n",
       "      <td>0</td>\n",
       "      <td>0</td>\n",
       "      <td>0</td>\n",
       "      <td>1</td>\n",
       "    </tr>\n",
       "    <tr>\n",
       "      <th>3</th>\n",
       "      <td>0</td>\n",
       "      <td>0</td>\n",
       "      <td>2.00</td>\n",
       "      <td>30</td>\n",
       "      <td>0</td>\n",
       "      <td>1</td>\n",
       "      <td>0</td>\n",
       "      <td>0</td>\n",
       "      <td>0</td>\n",
       "      <td>0</td>\n",
       "      <td>...</td>\n",
       "      <td>0</td>\n",
       "      <td>0</td>\n",
       "      <td>0</td>\n",
       "      <td>0</td>\n",
       "      <td>0</td>\n",
       "      <td>1</td>\n",
       "      <td>0</td>\n",
       "      <td>0</td>\n",
       "      <td>0</td>\n",
       "      <td>0</td>\n",
       "    </tr>\n",
       "    <tr>\n",
       "      <th>4</th>\n",
       "      <td>0</td>\n",
       "      <td>0</td>\n",
       "      <td>5.17</td>\n",
       "      <td>26</td>\n",
       "      <td>1</td>\n",
       "      <td>0</td>\n",
       "      <td>0</td>\n",
       "      <td>0</td>\n",
       "      <td>0</td>\n",
       "      <td>0</td>\n",
       "      <td>...</td>\n",
       "      <td>0</td>\n",
       "      <td>1</td>\n",
       "      <td>0</td>\n",
       "      <td>0</td>\n",
       "      <td>0</td>\n",
       "      <td>0</td>\n",
       "      <td>1</td>\n",
       "      <td>0</td>\n",
       "      <td>0</td>\n",
       "      <td>0</td>\n",
       "    </tr>\n",
       "    <tr>\n",
       "      <th>5</th>\n",
       "      <td>0</td>\n",
       "      <td>0</td>\n",
       "      <td>16.33</td>\n",
       "      <td>35</td>\n",
       "      <td>0</td>\n",
       "      <td>1</td>\n",
       "      <td>0</td>\n",
       "      <td>0</td>\n",
       "      <td>0</td>\n",
       "      <td>0</td>\n",
       "      <td>...</td>\n",
       "      <td>0</td>\n",
       "      <td>0</td>\n",
       "      <td>0</td>\n",
       "      <td>0</td>\n",
       "      <td>0</td>\n",
       "      <td>0</td>\n",
       "      <td>0</td>\n",
       "      <td>0</td>\n",
       "      <td>0</td>\n",
       "      <td>1</td>\n",
       "    </tr>\n",
       "    <tr>\n",
       "      <th>...</th>\n",
       "      <td>...</td>\n",
       "      <td>...</td>\n",
       "      <td>...</td>\n",
       "      <td>...</td>\n",
       "      <td>...</td>\n",
       "      <td>...</td>\n",
       "      <td>...</td>\n",
       "      <td>...</td>\n",
       "      <td>...</td>\n",
       "      <td>...</td>\n",
       "      <td>...</td>\n",
       "      <td>...</td>\n",
       "      <td>...</td>\n",
       "      <td>...</td>\n",
       "      <td>...</td>\n",
       "      <td>...</td>\n",
       "      <td>...</td>\n",
       "      <td>...</td>\n",
       "      <td>...</td>\n",
       "      <td>...</td>\n",
       "      <td>...</td>\n",
       "    </tr>\n",
       "    <tr>\n",
       "      <th>4996</th>\n",
       "      <td>0</td>\n",
       "      <td>0</td>\n",
       "      <td>17.42</td>\n",
       "      <td>15</td>\n",
       "      <td>0</td>\n",
       "      <td>1</td>\n",
       "      <td>0</td>\n",
       "      <td>0</td>\n",
       "      <td>0</td>\n",
       "      <td>0</td>\n",
       "      <td>...</td>\n",
       "      <td>0</td>\n",
       "      <td>0</td>\n",
       "      <td>1</td>\n",
       "      <td>0</td>\n",
       "      <td>1</td>\n",
       "      <td>0</td>\n",
       "      <td>0</td>\n",
       "      <td>0</td>\n",
       "      <td>0</td>\n",
       "      <td>0</td>\n",
       "    </tr>\n",
       "    <tr>\n",
       "      <th>4997</th>\n",
       "      <td>0</td>\n",
       "      <td>0</td>\n",
       "      <td>3.00</td>\n",
       "      <td>40</td>\n",
       "      <td>0</td>\n",
       "      <td>0</td>\n",
       "      <td>0</td>\n",
       "      <td>1</td>\n",
       "      <td>0</td>\n",
       "      <td>0</td>\n",
       "      <td>...</td>\n",
       "      <td>0</td>\n",
       "      <td>0</td>\n",
       "      <td>0</td>\n",
       "      <td>0</td>\n",
       "      <td>0</td>\n",
       "      <td>0</td>\n",
       "      <td>0</td>\n",
       "      <td>0</td>\n",
       "      <td>0</td>\n",
       "      <td>1</td>\n",
       "    </tr>\n",
       "    <tr>\n",
       "      <th>4998</th>\n",
       "      <td>0</td>\n",
       "      <td>0</td>\n",
       "      <td>11.17</td>\n",
       "      <td>37</td>\n",
       "      <td>0</td>\n",
       "      <td>1</td>\n",
       "      <td>0</td>\n",
       "      <td>0</td>\n",
       "      <td>0</td>\n",
       "      <td>0</td>\n",
       "      <td>...</td>\n",
       "      <td>0</td>\n",
       "      <td>0</td>\n",
       "      <td>0</td>\n",
       "      <td>1</td>\n",
       "      <td>0</td>\n",
       "      <td>0</td>\n",
       "      <td>0</td>\n",
       "      <td>0</td>\n",
       "      <td>0</td>\n",
       "      <td>1</td>\n",
       "    </tr>\n",
       "    <tr>\n",
       "      <th>4999</th>\n",
       "      <td>0</td>\n",
       "      <td>0</td>\n",
       "      <td>13.33</td>\n",
       "      <td>38</td>\n",
       "      <td>0</td>\n",
       "      <td>1</td>\n",
       "      <td>0</td>\n",
       "      <td>0</td>\n",
       "      <td>0</td>\n",
       "      <td>0</td>\n",
       "      <td>...</td>\n",
       "      <td>0</td>\n",
       "      <td>0</td>\n",
       "      <td>0</td>\n",
       "      <td>1</td>\n",
       "      <td>0</td>\n",
       "      <td>0</td>\n",
       "      <td>0</td>\n",
       "      <td>1</td>\n",
       "      <td>0</td>\n",
       "      <td>0</td>\n",
       "    </tr>\n",
       "    <tr>\n",
       "      <th>5000</th>\n",
       "      <td>0</td>\n",
       "      <td>0</td>\n",
       "      <td>16.08</td>\n",
       "      <td>49</td>\n",
       "      <td>0</td>\n",
       "      <td>0</td>\n",
       "      <td>0</td>\n",
       "      <td>0</td>\n",
       "      <td>0</td>\n",
       "      <td>1</td>\n",
       "      <td>...</td>\n",
       "      <td>0</td>\n",
       "      <td>0</td>\n",
       "      <td>0</td>\n",
       "      <td>0</td>\n",
       "      <td>0</td>\n",
       "      <td>0</td>\n",
       "      <td>1</td>\n",
       "      <td>0</td>\n",
       "      <td>0</td>\n",
       "      <td>0</td>\n",
       "    </tr>\n",
       "  </tbody>\n",
       "</table>\n",
       "<p>5000 rows × 1344 columns</p>\n",
       "</div>"
      ],
      "text/plain": [
       "      stops  class  duration  days_left  airline_AirAsia  airline_Air_India  \\\n",
       "1         0      0     28.25          2                0                  1   \n",
       "2         0      0     13.83         34                0                  0   \n",
       "3         0      0      2.00         30                0                  1   \n",
       "4         0      0      5.17         26                1                  0   \n",
       "5         0      0     16.33         35                0                  1   \n",
       "...     ...    ...       ...        ...              ...                ...   \n",
       "4996      0      0     17.42         15                0                  1   \n",
       "4997      0      0      3.00         40                0                  0   \n",
       "4998      0      0     11.17         37                0                  1   \n",
       "4999      0      0     13.33         38                0                  1   \n",
       "5000      0      0     16.08         49                0                  0   \n",
       "\n",
       "      airline_GO_FIRST  airline_Indigo  airline_SpiceJet  airline_Vistara  \\\n",
       "1                    0               0                 0                0   \n",
       "2                    0               0                 0                1   \n",
       "3                    0               0                 0                0   \n",
       "4                    0               0                 0                0   \n",
       "5                    0               0                 0                0   \n",
       "...                ...             ...               ...              ...   \n",
       "4996                 0               0                 0                0   \n",
       "4997                 0               1                 0                0   \n",
       "4998                 0               0                 0                0   \n",
       "4999                 0               0                 0                0   \n",
       "5000                 0               0                 0                1   \n",
       "\n",
       "      ...  arrival_time_Evening  arrival_time_Late_Night  \\\n",
       "1     ...                     0                        0   \n",
       "2     ...                     0                        0   \n",
       "3     ...                     0                        0   \n",
       "4     ...                     0                        1   \n",
       "5     ...                     0                        0   \n",
       "...   ...                   ...                      ...   \n",
       "4996  ...                     0                        0   \n",
       "4997  ...                     0                        0   \n",
       "4998  ...                     0                        0   \n",
       "4999  ...                     0                        0   \n",
       "5000  ...                     0                        0   \n",
       "\n",
       "      arrival_time_Morning  arrival_time_Night  destination_city_Bangalore  \\\n",
       "1                        0                   1                           0   \n",
       "2                        0                   1                           0   \n",
       "3                        0                   0                           0   \n",
       "4                        0                   0                           0   \n",
       "5                        0                   0                           0   \n",
       "...                    ...                 ...                         ...   \n",
       "4996                     1                   0                           1   \n",
       "4997                     0                   0                           0   \n",
       "4998                     0                   1                           0   \n",
       "4999                     0                   1                           0   \n",
       "5000                     0                   0                           0   \n",
       "\n",
       "      destination_city_Chennai  destination_city_Delhi  \\\n",
       "1                            0                       1   \n",
       "2                            0                       0   \n",
       "3                            1                       0   \n",
       "4                            0                       1   \n",
       "5                            0                       0   \n",
       "...                        ...                     ...   \n",
       "4996                         0                       0   \n",
       "4997                         0                       0   \n",
       "4998                         0                       0   \n",
       "4999                         0                       0   \n",
       "5000                         0                       1   \n",
       "\n",
       "      destination_city_Hyderabad  destination_city_Kolkata  \\\n",
       "1                              0                         0   \n",
       "2                              0                         0   \n",
       "3                              0                         0   \n",
       "4                              0                         0   \n",
       "5                              0                         0   \n",
       "...                          ...                       ...   \n",
       "4996                           0                         0   \n",
       "4997                           0                         0   \n",
       "4998                           0                         0   \n",
       "4999                           1                         0   \n",
       "5000                           0                         0   \n",
       "\n",
       "      destination_city_Mumbai  \n",
       "1                           0  \n",
       "2                           1  \n",
       "3                           0  \n",
       "4                           0  \n",
       "5                           1  \n",
       "...                       ...  \n",
       "4996                        0  \n",
       "4997                        1  \n",
       "4998                        1  \n",
       "4999                        0  \n",
       "5000                        0  \n",
       "\n",
       "[5000 rows x 1344 columns]"
      ]
     },
     "execution_count": 27,
     "metadata": {},
     "output_type": "execute_result"
    }
   ],
   "source": [
    "test_new"
   ]
  },
  {
   "cell_type": "code",
   "execution_count": 28,
   "id": "8d427ad3",
   "metadata": {
    "execution": {
     "iopub.execute_input": "2023-08-02T12:06:04.101806Z",
     "iopub.status.busy": "2023-08-02T12:06:04.101533Z",
     "iopub.status.idle": "2023-08-02T12:06:04.219926Z",
     "shell.execute_reply": "2023-08-02T12:06:04.218985Z"
    },
    "papermill": {
     "duration": 0.135897,
     "end_time": "2023-08-02T12:06:04.222092",
     "exception": false,
     "start_time": "2023-08-02T12:06:04.086195",
     "status": "completed"
    },
    "tags": []
   },
   "outputs": [
    {
     "data": {
      "text/plain": [
       "array([[0.        , 0.        , 0.72635762, ..., 0.        , 0.        ,\n",
       "        0.        ],\n",
       "       [0.        , 0.        , 0.34437086, ..., 0.        , 0.        ,\n",
       "        1.        ],\n",
       "       [0.        , 0.        , 0.03099338, ..., 0.        , 0.        ,\n",
       "        0.        ],\n",
       "       ...,\n",
       "       [0.        , 0.        , 0.27390728, ..., 0.        , 0.        ,\n",
       "        1.        ],\n",
       "       [0.        , 0.        , 0.33112583, ..., 1.        , 0.        ,\n",
       "        0.        ],\n",
       "       [0.        , 0.        , 0.40397351, ..., 0.        , 0.        ,\n",
       "        0.        ]])"
      ]
     },
     "execution_count": 28,
     "metadata": {},
     "output_type": "execute_result"
    }
   ],
   "source": [
    "X_test_new_prepared = scaler.transform(test_new)\n",
    "X_test_new_prepared"
   ]
  },
  {
   "cell_type": "code",
   "execution_count": 29,
   "id": "9576cb63",
   "metadata": {
    "execution": {
     "iopub.execute_input": "2023-08-02T12:06:04.251940Z",
     "iopub.status.busy": "2023-08-02T12:06:04.251643Z",
     "iopub.status.idle": "2023-08-02T12:06:04.403483Z",
     "shell.execute_reply": "2023-08-02T12:06:04.402497Z"
    },
    "papermill": {
     "duration": 0.169457,
     "end_time": "2023-08-02T12:06:04.405984",
     "exception": false,
     "start_time": "2023-08-02T12:06:04.236527",
     "status": "completed"
    },
    "tags": []
   },
   "outputs": [],
   "source": [
    "pred_to_sub = FR_model.predict(X_test_new_prepared)"
   ]
  },
  {
   "cell_type": "code",
   "execution_count": 30,
   "id": "f3a9e31d",
   "metadata": {
    "execution": {
     "iopub.execute_input": "2023-08-02T12:06:04.436047Z",
     "iopub.status.busy": "2023-08-02T12:06:04.435747Z",
     "iopub.status.idle": "2023-08-02T12:06:04.568881Z",
     "shell.execute_reply": "2023-08-02T12:06:04.567843Z"
    },
    "papermill": {
     "duration": 0.150612,
     "end_time": "2023-08-02T12:06:04.571326",
     "exception": false,
     "start_time": "2023-08-02T12:06:04.420714",
     "status": "completed"
    },
    "tags": []
   },
   "outputs": [
    {
     "data": {
      "text/plain": [
       "['aviachipta_narx_model.pkl']"
      ]
     },
     "execution_count": 30,
     "metadata": {},
     "output_type": "execute_result"
    }
   ],
   "source": [
    "import joblib\n",
    "filename = 'aviachipta_narx_model.pkl'  \n",
    "joblib.dump(FR_model, filename)\n"
   ]
  },
  {
   "cell_type": "code",
   "execution_count": 31,
   "id": "04658e26",
   "metadata": {
    "execution": {
     "iopub.execute_input": "2023-08-02T12:06:04.606222Z",
     "iopub.status.busy": "2023-08-02T12:06:04.605209Z",
     "iopub.status.idle": "2023-08-02T12:06:04.612884Z",
     "shell.execute_reply": "2023-08-02T12:06:04.611722Z"
    },
    "papermill": {
     "duration": 0.0274,
     "end_time": "2023-08-02T12:06:04.615279",
     "exception": false,
     "start_time": "2023-08-02T12:06:04.587879",
     "status": "completed"
    },
    "tags": []
   },
   "outputs": [
    {
     "data": {
      "text/plain": [
       "array([16689.69,  7184.72,  2129.63, ...,  6053.44,  5061.53,  7185.74])"
      ]
     },
     "execution_count": 31,
     "metadata": {},
     "output_type": "execute_result"
    }
   ],
   "source": [
    "pred_to_sub"
   ]
  },
  {
   "cell_type": "code",
   "execution_count": 32,
   "id": "b77cd890",
   "metadata": {
    "execution": {
     "iopub.execute_input": "2023-08-02T12:06:04.650739Z",
     "iopub.status.busy": "2023-08-02T12:06:04.649883Z",
     "iopub.status.idle": "2023-08-02T12:06:04.654839Z",
     "shell.execute_reply": "2023-08-02T12:06:04.653947Z"
    },
    "papermill": {
     "duration": 0.023386,
     "end_time": "2023-08-02T12:06:04.656925",
     "exception": false,
     "start_time": "2023-08-02T12:06:04.633539",
     "status": "completed"
    },
    "tags": []
   },
   "outputs": [],
   "source": [
    "sub.price = pred_to_sub"
   ]
  },
  {
   "cell_type": "code",
   "execution_count": 33,
   "id": "6d82972e",
   "metadata": {
    "execution": {
     "iopub.execute_input": "2023-08-02T12:06:04.688795Z",
     "iopub.status.busy": "2023-08-02T12:06:04.688070Z",
     "iopub.status.idle": "2023-08-02T12:06:04.698303Z",
     "shell.execute_reply": "2023-08-02T12:06:04.697390Z"
    },
    "papermill": {
     "duration": 0.027991,
     "end_time": "2023-08-02T12:06:04.700258",
     "exception": false,
     "start_time": "2023-08-02T12:06:04.672267",
     "status": "completed"
    },
    "tags": []
   },
   "outputs": [
    {
     "data": {
      "text/html": [
       "<div>\n",
       "<style scoped>\n",
       "    .dataframe tbody tr th:only-of-type {\n",
       "        vertical-align: middle;\n",
       "    }\n",
       "\n",
       "    .dataframe tbody tr th {\n",
       "        vertical-align: top;\n",
       "    }\n",
       "\n",
       "    .dataframe thead th {\n",
       "        text-align: right;\n",
       "    }\n",
       "</style>\n",
       "<table border=\"1\" class=\"dataframe\">\n",
       "  <thead>\n",
       "    <tr style=\"text-align: right;\">\n",
       "      <th></th>\n",
       "      <th>price</th>\n",
       "    </tr>\n",
       "    <tr>\n",
       "      <th>id</th>\n",
       "      <th></th>\n",
       "    </tr>\n",
       "  </thead>\n",
       "  <tbody>\n",
       "    <tr>\n",
       "      <th>1</th>\n",
       "      <td>16689.6900</td>\n",
       "    </tr>\n",
       "    <tr>\n",
       "      <th>2</th>\n",
       "      <td>7184.7200</td>\n",
       "    </tr>\n",
       "    <tr>\n",
       "      <th>3</th>\n",
       "      <td>2129.6300</td>\n",
       "    </tr>\n",
       "    <tr>\n",
       "      <th>4</th>\n",
       "      <td>2706.2700</td>\n",
       "    </tr>\n",
       "    <tr>\n",
       "      <th>5</th>\n",
       "      <td>5834.1100</td>\n",
       "    </tr>\n",
       "    <tr>\n",
       "      <th>...</th>\n",
       "      <td>...</td>\n",
       "    </tr>\n",
       "    <tr>\n",
       "      <th>4996</th>\n",
       "      <td>12223.4875</td>\n",
       "    </tr>\n",
       "    <tr>\n",
       "      <th>4997</th>\n",
       "      <td>4467.4900</td>\n",
       "    </tr>\n",
       "    <tr>\n",
       "      <th>4998</th>\n",
       "      <td>6053.4400</td>\n",
       "    </tr>\n",
       "    <tr>\n",
       "      <th>4999</th>\n",
       "      <td>5061.5300</td>\n",
       "    </tr>\n",
       "    <tr>\n",
       "      <th>5000</th>\n",
       "      <td>7185.7400</td>\n",
       "    </tr>\n",
       "  </tbody>\n",
       "</table>\n",
       "<p>5000 rows × 1 columns</p>\n",
       "</div>"
      ],
      "text/plain": [
       "           price\n",
       "id              \n",
       "1     16689.6900\n",
       "2      7184.7200\n",
       "3      2129.6300\n",
       "4      2706.2700\n",
       "5      5834.1100\n",
       "...          ...\n",
       "4996  12223.4875\n",
       "4997   4467.4900\n",
       "4998   6053.4400\n",
       "4999   5061.5300\n",
       "5000   7185.7400\n",
       "\n",
       "[5000 rows x 1 columns]"
      ]
     },
     "execution_count": 33,
     "metadata": {},
     "output_type": "execute_result"
    }
   ],
   "source": [
    "sub"
   ]
  },
  {
   "cell_type": "code",
   "execution_count": 34,
   "id": "eb02ae3c",
   "metadata": {
    "execution": {
     "iopub.execute_input": "2023-08-02T12:06:04.731168Z",
     "iopub.status.busy": "2023-08-02T12:06:04.730573Z",
     "iopub.status.idle": "2023-08-02T12:06:04.752647Z",
     "shell.execute_reply": "2023-08-02T12:06:04.751791Z"
    },
    "papermill": {
     "duration": 0.04001,
     "end_time": "2023-08-02T12:06:04.754657",
     "exception": false,
     "start_time": "2023-08-02T12:06:04.714647",
     "status": "completed"
    },
    "tags": []
   },
   "outputs": [],
   "source": [
    "sub.to_csv('sub_rf.csv')"
   ]
  },
  {
   "cell_type": "code",
   "execution_count": null,
   "id": "215c14e5",
   "metadata": {
    "papermill": {
     "duration": 0.014182,
     "end_time": "2023-08-02T12:06:04.783188",
     "exception": false,
     "start_time": "2023-08-02T12:06:04.769006",
     "status": "completed"
    },
    "tags": []
   },
   "outputs": [],
   "source": []
  }
 ],
 "metadata": {
  "kernelspec": {
   "display_name": "Python 3",
   "language": "python",
   "name": "python3"
  },
  "language_info": {
   "codemirror_mode": {
    "name": "ipython",
    "version": 3
   },
   "file_extension": ".py",
   "mimetype": "text/x-python",
   "name": "python",
   "nbconvert_exporter": "python",
   "pygments_lexer": "ipython3",
   "version": "3.10.12"
  },
  "papermill": {
   "default_parameters": {},
   "duration": 516.08764,
   "end_time": "2023-08-02T12:06:05.517632",
   "environment_variables": {},
   "exception": null,
   "input_path": "__notebook__.ipynb",
   "output_path": "__notebook__.ipynb",
   "parameters": {},
   "start_time": "2023-08-02T11:57:29.429992",
   "version": "2.4.0"
  }
 },
 "nbformat": 4,
 "nbformat_minor": 5
}
